{
  "cells": [
    {
      "cell_type": "markdown",
      "metadata": {
        "id": "view-in-github",
        "colab_type": "text"
      },
      "source": [
        "<a href=\"https://colab.research.google.com/github/LaisHott/ecommerce-ab-testing/blob/main/Notebook_Projeto_8.ipynb\" target=\"_parent\"><img src=\"https://colab.research.google.com/assets/colab-badge.svg\" alt=\"Open In Colab\"/></a>"
      ]
    },
    {
      "cell_type": "markdown",
      "metadata": {
        "id": "66DmfQFOm-xO"
      },
      "source": [
        "# Análise de Hipóteses para Aumento de Receita em Loja Online.\n",
        "\n",
        "O projeto consiste em uma análise de hipóteses para aumentar a receita de uma grande loja online. Como analista dessa empresa, junto com o departamento de marketing, vamos priorizar hipóteses, lançar um teste A/B e analisar os resultados.\n",
        "\n",
        "O objetivo final é aumentar a receita da loja e oferecer uma experiência de compra ainda melhor para seus clientes."
      ]
    },
    {
      "cell_type": "markdown",
      "metadata": {
        "id": "PKhVchjSm-xO"
      },
      "source": [
        "# Inicialização\n",
        "\n",
        "Vamos começar com as bibliotecas necessárias relevantes para nossa análise."
      ]
    },
    {
      "cell_type": "code",
      "execution_count": null,
      "metadata": {
        "id": "-kUnpZJ2m-xO"
      },
      "outputs": [],
      "source": [
        "# Carregando bibliotecas\n",
        "import pandas as pd\n",
        "import matplotlib.pyplot as plt\n",
        "import seaborn as sns\n",
        "from scipy import stats as st\n",
        "import numpy as np"
      ]
    },
    {
      "cell_type": "markdown",
      "metadata": {
        "id": "F5-hJCgFm-xP"
      },
      "source": [
        "## Parte 1 - Priorizando Hipóteses\n",
        "\n",
        "\n",
        "**Descrição dos dados**\n",
        "\n",
        "- ***Dataframe `hypotheses`***:\n",
        "\n",
        "  `Hypotheses` — breves descrições das hipóteses\n",
        "\n",
        "  `Reach` — alcance do usuário, em uma escala de um a dez\n",
        "\n",
        "  `Impact` — impacto nos usuários, em uma escala de um a dez\n",
        "\n",
        "  `Confidence` — confiança na hipótese, em uma escala de um a dez\n",
        "\n",
        "  `Effort` — os recursos necessários para testar uma hipótese, em uma escala de um a dez. Quanto maior o valor de Effort, mais recursos são necessários para o teste.\n",
        "\n",
        "O dataframe `hypotheses`, contém 9 hipóteses para aumentar a receita de uma loja online com `Reach`, `Impact`, `Confidence` e `Effort` especificados para cada um."
      ]
    },
    {
      "cell_type": "markdown",
      "metadata": {
        "id": "S4kNrr-Lm-xP"
      },
      "source": [
        "### Carregando os dados\n",
        "\n",
        "Vamos armazenar os dados sobre hipóteses em variáveis específicas e, em seguida, otimizá-los para a análise, certificando-nos de que cada coluna contenha o tipo correto de dados."
      ]
    },
    {
      "cell_type": "code",
      "execution_count": null,
      "metadata": {
        "id": "ku9vZS61m-xP"
      },
      "outputs": [],
      "source": [
        "# Carregando os dados\n",
        "hypothesis = pd.read_csv('/datasets/hypotheses_us.csv', sep=';')"
      ]
    },
    {
      "cell_type": "code",
      "execution_count": null,
      "metadata": {
        "id": "7_R4diemm-xP",
        "outputId": "df04319f-3086-4d77-ee4e-ae15818374e2"
      },
      "outputs": [
        {
          "name": "stdout",
          "output_type": "stream",
          "text": [
            "<class 'pandas.core.frame.DataFrame'>\n",
            "RangeIndex: 9 entries, 0 to 8\n",
            "Data columns (total 5 columns):\n",
            " #   Column      Non-Null Count  Dtype \n",
            "---  ------      --------------  ----- \n",
            " 0   Hypothesis  9 non-null      object\n",
            " 1   Reach       9 non-null      int64 \n",
            " 2   Impact      9 non-null      int64 \n",
            " 3   Confidence  9 non-null      int64 \n",
            " 4   Effort      9 non-null      int64 \n",
            "dtypes: int64(4), object(1)\n",
            "memory usage: 1.6 KB\n"
          ]
        }
      ],
      "source": [
        "# Analisando informações detalhadas sobre o dataframe \"hypotheses\"\n",
        "hypothesis.info(memory_usage='deep')"
      ]
    },
    {
      "cell_type": "markdown",
      "metadata": {
        "id": "b4ptAkPgm-xP"
      },
      "source": [
        "- Vamos transformar os nomes das colunas em letras minúsculas para seguir o padrão de nomenclatura de colunas do Python."
      ]
    },
    {
      "cell_type": "code",
      "execution_count": null,
      "metadata": {
        "id": "Qyb-hgl7m-xQ"
      },
      "outputs": [],
      "source": [
        "# Convertendo os nomes das colunas para minúsculas\n",
        "hypothesis.columns = hypothesis.columns.str.lower()"
      ]
    },
    {
      "cell_type": "code",
      "execution_count": null,
      "metadata": {
        "id": "m52Jbmcxm-xQ",
        "outputId": "d38b4b61-1b2f-411f-c50c-3db0c0c9ffa6"
      },
      "outputs": [
        {
          "data": {
            "text/html": [
              "<div>\n",
              "<style scoped>\n",
              "    .dataframe tbody tr th:only-of-type {\n",
              "        vertical-align: middle;\n",
              "    }\n",
              "\n",
              "    .dataframe tbody tr th {\n",
              "        vertical-align: top;\n",
              "    }\n",
              "\n",
              "    .dataframe thead th {\n",
              "        text-align: right;\n",
              "    }\n",
              "</style>\n",
              "<table border=\"1\" class=\"dataframe\">\n",
              "  <thead>\n",
              "    <tr style=\"text-align: right;\">\n",
              "      <th></th>\n",
              "      <th>hypothesis</th>\n",
              "      <th>reach</th>\n",
              "      <th>impact</th>\n",
              "      <th>confidence</th>\n",
              "      <th>effort</th>\n",
              "    </tr>\n",
              "  </thead>\n",
              "  <tbody>\n",
              "    <tr>\n",
              "      <th>0</th>\n",
              "      <td>Add two new channels for attracting traffic. T...</td>\n",
              "      <td>3</td>\n",
              "      <td>10</td>\n",
              "      <td>8</td>\n",
              "      <td>6</td>\n",
              "    </tr>\n",
              "    <tr>\n",
              "      <th>1</th>\n",
              "      <td>Launch your own delivery service. This will sh...</td>\n",
              "      <td>2</td>\n",
              "      <td>5</td>\n",
              "      <td>4</td>\n",
              "      <td>10</td>\n",
              "    </tr>\n",
              "    <tr>\n",
              "      <th>2</th>\n",
              "      <td>Add product recommendation blocks to the store...</td>\n",
              "      <td>8</td>\n",
              "      <td>3</td>\n",
              "      <td>7</td>\n",
              "      <td>3</td>\n",
              "    </tr>\n",
              "    <tr>\n",
              "      <th>3</th>\n",
              "      <td>Change the category structure. This will incre...</td>\n",
              "      <td>8</td>\n",
              "      <td>3</td>\n",
              "      <td>3</td>\n",
              "      <td>8</td>\n",
              "    </tr>\n",
              "    <tr>\n",
              "      <th>4</th>\n",
              "      <td>Change the background color on the main page. ...</td>\n",
              "      <td>3</td>\n",
              "      <td>1</td>\n",
              "      <td>1</td>\n",
              "      <td>1</td>\n",
              "    </tr>\n",
              "  </tbody>\n",
              "</table>\n",
              "</div>"
            ],
            "text/plain": [
              "                                          hypothesis  reach  impact  \\\n",
              "0  Add two new channels for attracting traffic. T...      3      10   \n",
              "1  Launch your own delivery service. This will sh...      2       5   \n",
              "2  Add product recommendation blocks to the store...      8       3   \n",
              "3  Change the category structure. This will incre...      8       3   \n",
              "4  Change the background color on the main page. ...      3       1   \n",
              "\n",
              "   confidence  effort  \n",
              "0           8       6  \n",
              "1           4      10  \n",
              "2           7       3  \n",
              "3           3       8  \n",
              "4           1       1  "
            ]
          },
          "execution_count": 7,
          "metadata": {},
          "output_type": "execute_result"
        }
      ],
      "source": [
        "# Verificando as primeiras linhas do DataFrame para garantir que os dados foram carregados corretamente\n",
        "hypothesis.head()"
      ]
    },
    {
      "cell_type": "markdown",
      "metadata": {
        "id": "KqvrgwjRm-xQ"
      },
      "source": [
        "### Aplicar o framework ICE para priorizar hipóteses. Classifique-os em ordem decrescente de prioridade.\n",
        "\n",
        "O framework ICE é uma técnica simples que ajuda a priorizar as hipóteses com base no potencial impacto, na confiança na hipótese e no esforço necessário para testá-la. A fórmula para calcular a pontuação ICE é:\n",
        "\n",
        "*ICE = (Impact × Confidence) / Effort*\n",
        "\n",
        "Quanto maior o valor do ICE, maior a prioridade da hipótese.\n",
        "\n",
        "Vamos aplicar esse framework às hipóteses fornecidas no dataframe `hypothesis`.\n",
        "\n",
        "Testar uma hipótese custará muito dinheiro, mas os recursos são limitados. Então precisamos escolher o que testar e o que deixar de lado."
      ]
    },
    {
      "cell_type": "code",
      "execution_count": null,
      "metadata": {
        "id": "5uhJpcxym-xQ"
      },
      "outputs": [],
      "source": [
        "# Calcular a pontuação ICE para cada hipótese\n",
        "hypothesis['ICE'] = (hypothesis['impact'] * hypothesis['confidence']) / hypothesis['effort']"
      ]
    },
    {
      "cell_type": "code",
      "execution_count": null,
      "metadata": {
        "id": "atmQk7PEm-xQ"
      },
      "outputs": [],
      "source": [
        "# Ordenar as hipóteses em ordem decrescente de prioridade (pontuação ICE)\n",
        "sorted_hypothesis_ice = hypothesis.sort_values(by='ICE', ascending=False)"
      ]
    },
    {
      "cell_type": "code",
      "execution_count": null,
      "metadata": {
        "id": "P8HAtZe8m-xQ",
        "outputId": "d22001d0-2674-432a-d380-421ede240260"
      },
      "outputs": [
        {
          "data": {
            "text/html": [
              "<div>\n",
              "<style scoped>\n",
              "    .dataframe tbody tr th:only-of-type {\n",
              "        vertical-align: middle;\n",
              "    }\n",
              "\n",
              "    .dataframe tbody tr th {\n",
              "        vertical-align: top;\n",
              "    }\n",
              "\n",
              "    .dataframe thead th {\n",
              "        text-align: right;\n",
              "    }\n",
              "</style>\n",
              "<table border=\"1\" class=\"dataframe\">\n",
              "  <thead>\n",
              "    <tr style=\"text-align: right;\">\n",
              "      <th></th>\n",
              "      <th>hypothesis</th>\n",
              "      <th>ICE</th>\n",
              "    </tr>\n",
              "  </thead>\n",
              "  <tbody>\n",
              "    <tr>\n",
              "      <th>8</th>\n",
              "      <td>Launch a promotion that gives users discounts ...</td>\n",
              "      <td>16.200000</td>\n",
              "    </tr>\n",
              "    <tr>\n",
              "      <th>0</th>\n",
              "      <td>Add two new channels for attracting traffic. T...</td>\n",
              "      <td>13.333333</td>\n",
              "    </tr>\n",
              "    <tr>\n",
              "      <th>7</th>\n",
              "      <td>Add a subscription form to all the main pages....</td>\n",
              "      <td>11.200000</td>\n",
              "    </tr>\n",
              "    <tr>\n",
              "      <th>6</th>\n",
              "      <td>Show banners with current offers and sales on ...</td>\n",
              "      <td>8.000000</td>\n",
              "    </tr>\n",
              "    <tr>\n",
              "      <th>2</th>\n",
              "      <td>Add product recommendation blocks to the store...</td>\n",
              "      <td>7.000000</td>\n",
              "    </tr>\n",
              "    <tr>\n",
              "      <th>1</th>\n",
              "      <td>Launch your own delivery service. This will sh...</td>\n",
              "      <td>2.000000</td>\n",
              "    </tr>\n",
              "    <tr>\n",
              "      <th>5</th>\n",
              "      <td>Add a customer review page. This will increase...</td>\n",
              "      <td>1.333333</td>\n",
              "    </tr>\n",
              "    <tr>\n",
              "      <th>3</th>\n",
              "      <td>Change the category structure. This will incre...</td>\n",
              "      <td>1.125000</td>\n",
              "    </tr>\n",
              "    <tr>\n",
              "      <th>4</th>\n",
              "      <td>Change the background color on the main page. ...</td>\n",
              "      <td>1.000000</td>\n",
              "    </tr>\n",
              "  </tbody>\n",
              "</table>\n",
              "</div>"
            ],
            "text/plain": [
              "                                          hypothesis        ICE\n",
              "8  Launch a promotion that gives users discounts ...  16.200000\n",
              "0  Add two new channels for attracting traffic. T...  13.333333\n",
              "7  Add a subscription form to all the main pages....  11.200000\n",
              "6  Show banners with current offers and sales on ...   8.000000\n",
              "2  Add product recommendation blocks to the store...   7.000000\n",
              "1  Launch your own delivery service. This will sh...   2.000000\n",
              "5  Add a customer review page. This will increase...   1.333333\n",
              "3  Change the category structure. This will incre...   1.125000\n",
              "4  Change the background color on the main page. ...   1.000000"
            ]
          },
          "execution_count": 10,
          "metadata": {},
          "output_type": "execute_result"
        }
      ],
      "source": [
        "# Mostrar a ordem de prioridade das hipóteses\n",
        "sorted_hypothesis_ice[['hypothesis', 'ICE']]"
      ]
    },
    {
      "cell_type": "markdown",
      "metadata": {
        "id": "ahWgouzIm-xQ"
      },
      "source": [
        "O resultado obtido após a aplicação do framework ICE para priorizar as hipóteses é o seguinte:\n",
        "\n",
        "***Hipótese 8*** - Launch a promotion that gives users discounts on their birthdays. This will increase user engagement.\n",
        "ICE: 16.20\n",
        "\n",
        "***Hipótese 0*** - Add two new channels for attracting traffic. This will increase the number of users coming to the site.\n",
        "ICE: 13.33\n",
        "\n",
        "***Hipótese 7*** - Add a subscription form to all the main pages. This will build a loyal customer base.\n",
        "ICE: 11.20\n",
        "\n",
        "***Hipótese 6*** - Show banners with current offers and sales on the main page. This will increase user engagement.\n",
        "ICE: 8.00\n",
        "\n",
        "***Hipótese 2*** - Add product recommendation blocks to the store's site. This will increase the average purchase size.\n",
        "ICE: 7.00\n",
        "\n",
        "***Hipótese 1*** - Launch your own delivery service. This will shorten delivery times for users.\n",
        "ICE: 2.00\n",
        "\n",
        "***Hipótese 5*** - Add a customer review page. This will increase user engagement.\n",
        "ICE: 1.33\n",
        "\n",
        "***Hipótese 3*** - Change the category structure. This will increase conversion rates.\n",
        "ICE: 1.13\n",
        "\n",
        "***Hipótese 4*** - Change the background color on the main page. This will improve user experience.\n",
        "ICE: 1.00"
      ]
    },
    {
      "cell_type": "markdown",
      "metadata": {
        "id": "e8CsDnHVm-xQ"
      },
      "source": [
        "### Aplicar o framework RICE para priorizar hipóteses. Classifique-os em ordem decrescente de prioridade.\n",
        "\n",
        "O framework RICE (Reach, Impact, Confidence, Effort) também é usado para priorizar as hipóteses. O processo é semelhante ao framework ICE, mas leva em consideração o alcance dos usuários (Reach).\n",
        "\n",
        "*RICE = (Reach × Impact × Confidence) / Effort*\n",
        "\n",
        "Reach (Alcance): Número de pessoas afetadas pela hipótese.\n",
        "Impact (Impacto): Impacto estimado da hipótese.\n",
        "Confidence (Confiança): Nível de confiança na hipótese.\n",
        "Effort (Esforço): Recursos necessários para testar a hipótese."
      ]
    },
    {
      "cell_type": "code",
      "execution_count": null,
      "metadata": {
        "id": "CprnSIw5m-xR"
      },
      "outputs": [],
      "source": [
        "# Calcular a pontuação RICE para cada hipótese\n",
        "hypothesis['RICE'] = (hypothesis['reach'] * hypothesis['impact'] * hypothesis['confidence']) / hypothesis['effort']"
      ]
    },
    {
      "cell_type": "code",
      "execution_count": null,
      "metadata": {
        "id": "O88DHGEnm-xR"
      },
      "outputs": [],
      "source": [
        "# Ordenar as hipóteses em ordem decrescente de prioridade (pontuação RICE)\n",
        "sorted_hypothesis_rice = hypothesis.sort_values(by='RICE', ascending=False)"
      ]
    },
    {
      "cell_type": "code",
      "execution_count": null,
      "metadata": {
        "id": "Vq8v5IdFm-xR",
        "outputId": "580a7b75-12e7-400b-f700-4f199e3e93c5"
      },
      "outputs": [
        {
          "data": {
            "text/html": [
              "<div>\n",
              "<style scoped>\n",
              "    .dataframe tbody tr th:only-of-type {\n",
              "        vertical-align: middle;\n",
              "    }\n",
              "\n",
              "    .dataframe tbody tr th {\n",
              "        vertical-align: top;\n",
              "    }\n",
              "\n",
              "    .dataframe thead th {\n",
              "        text-align: right;\n",
              "    }\n",
              "</style>\n",
              "<table border=\"1\" class=\"dataframe\">\n",
              "  <thead>\n",
              "    <tr style=\"text-align: right;\">\n",
              "      <th></th>\n",
              "      <th>hypothesis</th>\n",
              "      <th>RICE</th>\n",
              "    </tr>\n",
              "  </thead>\n",
              "  <tbody>\n",
              "    <tr>\n",
              "      <th>7</th>\n",
              "      <td>Add a subscription form to all the main pages....</td>\n",
              "      <td>112.0</td>\n",
              "    </tr>\n",
              "    <tr>\n",
              "      <th>2</th>\n",
              "      <td>Add product recommendation blocks to the store...</td>\n",
              "      <td>56.0</td>\n",
              "    </tr>\n",
              "    <tr>\n",
              "      <th>0</th>\n",
              "      <td>Add two new channels for attracting traffic. T...</td>\n",
              "      <td>40.0</td>\n",
              "    </tr>\n",
              "    <tr>\n",
              "      <th>6</th>\n",
              "      <td>Show banners with current offers and sales on ...</td>\n",
              "      <td>40.0</td>\n",
              "    </tr>\n",
              "    <tr>\n",
              "      <th>8</th>\n",
              "      <td>Launch a promotion that gives users discounts ...</td>\n",
              "      <td>16.2</td>\n",
              "    </tr>\n",
              "    <tr>\n",
              "      <th>3</th>\n",
              "      <td>Change the category structure. This will incre...</td>\n",
              "      <td>9.0</td>\n",
              "    </tr>\n",
              "    <tr>\n",
              "      <th>1</th>\n",
              "      <td>Launch your own delivery service. This will sh...</td>\n",
              "      <td>4.0</td>\n",
              "    </tr>\n",
              "    <tr>\n",
              "      <th>5</th>\n",
              "      <td>Add a customer review page. This will increase...</td>\n",
              "      <td>4.0</td>\n",
              "    </tr>\n",
              "    <tr>\n",
              "      <th>4</th>\n",
              "      <td>Change the background color on the main page. ...</td>\n",
              "      <td>3.0</td>\n",
              "    </tr>\n",
              "  </tbody>\n",
              "</table>\n",
              "</div>"
            ],
            "text/plain": [
              "                                          hypothesis   RICE\n",
              "7  Add a subscription form to all the main pages....  112.0\n",
              "2  Add product recommendation blocks to the store...   56.0\n",
              "0  Add two new channels for attracting traffic. T...   40.0\n",
              "6  Show banners with current offers and sales on ...   40.0\n",
              "8  Launch a promotion that gives users discounts ...   16.2\n",
              "3  Change the category structure. This will incre...    9.0\n",
              "1  Launch your own delivery service. This will sh...    4.0\n",
              "5  Add a customer review page. This will increase...    4.0\n",
              "4  Change the background color on the main page. ...    3.0"
            ]
          },
          "execution_count": 13,
          "metadata": {},
          "output_type": "execute_result"
        }
      ],
      "source": [
        "# Mostrar a ordem de prioridade das hipóteses\n",
        "sorted_hypothesis_rice[['hypothesis', 'RICE']]"
      ]
    },
    {
      "cell_type": "markdown",
      "metadata": {
        "id": "P4ILrehZm-xR"
      },
      "source": [
        "***Hipótese 7*** - Add a subscription form to all the main pages. This will build a loyal customer base.\n",
        "RICE: 112.0\n",
        "\n",
        "***Hipótese 2*** - Add product recommendation blocks to the store's site. This will increase the average purchase size.\n",
        "RICE: 56.0\n",
        "\n",
        "***Hipótese 0*** - Add two new channels for attracting traffic. This will increase the number of users coming to the site.\n",
        "RICE: 40.0\n",
        "\n",
        "***Hipótese 6*** - Show banners with current offers and sales on the main page. This will increase user engagement.\n",
        "RICE: 40.0\n",
        "\n",
        "***Hipótese 8*** - Launch a promotion that gives users discounts on their birthdays. This will increase user engagement.\n",
        "RICE: 16.2\n",
        "\n",
        "***Hipótese 3*** - Change the category structure. This will increase conversion rates.\n",
        "RICE: 9.0\n",
        "\n",
        "***Hipótese 1*** - Launch your own delivery service. This will shorten delivery times for users.\n",
        "RICE: 4.0\n",
        "\n",
        "***Hipótese 5*** - Add a customer review page. This will increase user engagement.\n",
        "RICE: 4.0\n",
        "\n",
        "***Hipótese 4*** - Change the background color on the main page. This will improve user experience.\n",
        "RICE: 3.0\n",
        "\n",
        "A ordem de prioridade das hipóteses, de acordo com o framework RICE, é a que você vê acima. As hipóteses são ordenadas em ordem decrescente de acordo com suas pontuações RICE."
      ]
    },
    {
      "cell_type": "markdown",
      "metadata": {
        "id": "UcwDjB3rm-xR"
      },
      "source": [
        "### Mostre como a priorização de hipóteses muda quando você usa RICE em vez de ICE. Dê uma explicação para as alterações.\n",
        "\n",
        "A principal diferença entre as duas priorizações é que o framework RICE leva em consideração o alcance dos usuários (Reach). Isso significa que as hipóteses que têm um alto alcance (afetando mais pessoas) serão priorizadas mais altamente, mesmo que o impacto seja menor.\n",
        "\n",
        "No caso das hipóteses acima, as hipóteses que têm um alto alcance e um impacto razoável foram priorizadas mais altamente usando o framework RICE. Isso é evidente, por exemplo, nas posições mais altas para as hipóteses 7, 2 e 0, que têm um alcance significativo.\n",
        "\n",
        "Portanto, a principal mudança é que o framework RICE valoriza as hipóteses que têm a capacidade de afetar mais usuários, mesmo que o impacto direto seja menor, enquanto o framework ICE foca mais no impacto direto e na confiança.\n",
        "\n",
        "- Vamos criar gráficos de barras para comparar as priorizações das hipóteses usando os frameworks ICE e RICE."
      ]
    },
    {
      "cell_type": "code",
      "execution_count": null,
      "metadata": {
        "id": "g6wQ5t11m-xR",
        "outputId": "76f8370c-fed7-447c-ef18-b8d4d393a54d"
      },
      "outputs": [
        {
          "data": {
            "image/png": "[encoded data removed]",
            "text/plain": [
              "<Figure size 720x432 with 1 Axes>"
            ]
          },
          "metadata": {},
          "output_type": "display_data"
        }
      ],
      "source": [
        "# Configurar o estilo do Seaborn\n",
        "sns.set(style='whitegrid')\n",
        "\n",
        "# Criar gráfico de barras para comparar priorizações usando ICE e RICE\n",
        "plt.figure(figsize=(10, 6))\n",
        "ax = sns.barplot(x='ICE', y='hypothesis', data=sorted_hypothesis_ice, color='blue', label='ICE')\n",
        "ax = sns.barplot(x='RICE', y='hypothesis', data=sorted_hypothesis_rice, color='orange', alpha=0.5, label='RICE')\n",
        "plt.xlabel('Pontuação')\n",
        "plt.ylabel('Hipóteses')\n",
        "plt.title('Comparação de Priorização: ICE vs RICE')\n",
        "plt.legend()\n",
        "\n",
        "# Mostrar o gráfico\n",
        "plt.show()"
      ]
    },
    {
      "cell_type": "markdown",
      "metadata": {
        "id": "vpCzJHTkm-xR"
      },
      "source": [
        "Criamos um gráfico de barras que compara as priorizações usando ICE e RICE. Ele eixbe as hipóteses no eixo y e as pontuações no eixo x, com barras azuis para ICE e barras laranjas transparentes para RICE. Isso permitirá que possamos visualizar como a priorização muda ao usar RICE em vez de ICE.\n",
        "\n",
        "Obs.: O gráfico de barra horizontal é mais adequado para exibir as hipóteses de maneira legível nesse caso."
      ]
    },
    {
      "cell_type": "markdown",
      "metadata": {
        "id": "ABjmcS_Sm-xR"
      },
      "source": [
        "## Parte 2 - Análise de teste A/B\n",
        "\n",
        "**Descrição dos dados**\n",
        "\n",
        "- ***Dataframe `orders`***:\n",
        "\n",
        "  `transactionId` — identificador do pedido\n",
        "\n",
        "  `visitorId` — identificador do usuário que fez o pedido\n",
        "\n",
        "  `date` — do pedido\n",
        "\n",
        "  `revenue` — do pedido\n",
        "\n",
        "  `group` — o grupo de teste A/B ao qual o usuário pertence\n",
        "\n",
        "\n",
        "- ***Dataframe `visits`***:\n",
        "\n",
        "  `date` — data\n",
        "\n",
        "  `group` — grupo de teste A/B\n",
        "\n",
        "  `visits` — o número de visitas na data especificada para o grupo de teste A/B especificado\n",
        "\n",
        "Foi realizazdo um teste A/B e obtemos os resultados descritos nos dataframes `orders` e `visits`. Agora vamos analisar o teste A/B."
      ]
    },
    {
      "cell_type": "markdown",
      "metadata": {
        "id": "ZXIjoqUNm-xR"
      },
      "source": [
        "### Carregando os dados"
      ]
    },
    {
      "cell_type": "code",
      "execution_count": null,
      "metadata": {
        "id": "8E2dnkS8m-xS"
      },
      "outputs": [],
      "source": [
        "# Carregando os conjuntos de dados\n",
        "orders = pd.read_csv('/datasets/orders_us.csv')\n",
        "visits = pd.read_csv('/datasets/visits_us.csv')"
      ]
    },
    {
      "cell_type": "code",
      "execution_count": null,
      "metadata": {
        "id": "XOh-qsxNm-xS",
        "outputId": "4ef6f639-99da-4db1-bfcd-8e26c914a398"
      },
      "outputs": [
        {
          "name": "stdout",
          "output_type": "stream",
          "text": [
            "<class 'pandas.core.frame.DataFrame'>\n",
            "RangeIndex: 1197 entries, 0 to 1196\n",
            "Data columns (total 5 columns):\n",
            " #   Column         Non-Null Count  Dtype  \n",
            "---  ------         --------------  -----  \n",
            " 0   transactionId  1197 non-null   int64  \n",
            " 1   visitorId      1197 non-null   int64  \n",
            " 2   date           1197 non-null   object \n",
            " 3   revenue        1197 non-null   float64\n",
            " 4   group          1197 non-null   object \n",
            "dtypes: float64(1), int64(2), object(2)\n",
            "memory usage: 174.3 KB\n"
          ]
        }
      ],
      "source": [
        "# Analisando informações detalhadas do dataframe\n",
        "orders.info(memory_usage='deep')"
      ]
    },
    {
      "cell_type": "markdown",
      "metadata": {
        "id": "RiLfPCjMm-xS"
      },
      "source": [
        "- A coluna date pode ser convertida para o tipo datetime ao invés de object.\n",
        "\n",
        "- Vamos reduzir tamanho da memória usando parâmetros ao ler dados de arquivos para especificar os tipos de dados das colunas."
      ]
    },
    {
      "cell_type": "code",
      "execution_count": null,
      "metadata": {
        "id": "CseevmNxm-xS"
      },
      "outputs": [],
      "source": [
        "# Convertendo o tipo da coluna date\n",
        "orders['date'] = pd.to_datetime(orders['date'])"
      ]
    },
    {
      "cell_type": "code",
      "execution_count": null,
      "metadata": {
        "id": "3Agq6_rRm-xS",
        "outputId": "ca665553-91cd-4d1b-a475-f4d33bda1ab8"
      },
      "outputs": [
        {
          "name": "stdout",
          "output_type": "stream",
          "text": [
            "datetime64[ns]\n"
          ]
        }
      ],
      "source": [
        "# Verificando a conversão\n",
        "print(orders['date'].dtype)"
      ]
    },
    {
      "cell_type": "code",
      "execution_count": null,
      "metadata": {
        "id": "4SYFZJ4Tm-xS"
      },
      "outputs": [],
      "source": [
        "# Lendo o arquivo com os parametros determinados\n",
        "orders = pd.read_csv('/datasets/orders_us.csv',  parse_dates=['date'],\n",
        "                     dtype={'transactionId': 'int32', 'visitorId': 'int32', 'revenue': 'float32'})"
      ]
    },
    {
      "cell_type": "code",
      "execution_count": null,
      "metadata": {
        "id": "0JBjLrq-m-xS",
        "outputId": "9ac68f67-ef68-41ee-d06b-afaca4014ea7"
      },
      "outputs": [
        {
          "name": "stdout",
          "output_type": "stream",
          "text": [
            "<class 'pandas.core.frame.DataFrame'>\n",
            "RangeIndex: 1197 entries, 0 to 1196\n",
            "Data columns (total 5 columns):\n",
            " #   Column         Non-Null Count  Dtype         \n",
            "---  ------         --------------  -----         \n",
            " 0   transactionId  1197 non-null   int32         \n",
            " 1   visitorId      1197 non-null   int32         \n",
            " 2   date           1197 non-null   datetime64[ns]\n",
            " 3   revenue        1197 non-null   float32       \n",
            " 4   group          1197 non-null   object        \n",
            "dtypes: datetime64[ns](1), float32(1), int32(2), object(1)\n",
            "memory usage: 91.3 KB\n"
          ]
        }
      ],
      "source": [
        "# Verificando a otimização\n",
        "orders.info(memory_usage='deep')"
      ]
    },
    {
      "cell_type": "code",
      "execution_count": null,
      "metadata": {
        "id": "FPaiRvDzm-xS",
        "outputId": "d278450b-59cb-4ba9-8c70-412f3bf7dd45"
      },
      "outputs": [
        {
          "data": {
            "text/html": [
              "<div>\n",
              "<style scoped>\n",
              "    .dataframe tbody tr th:only-of-type {\n",
              "        vertical-align: middle;\n",
              "    }\n",
              "\n",
              "    .dataframe tbody tr th {\n",
              "        vertical-align: top;\n",
              "    }\n",
              "\n",
              "    .dataframe thead th {\n",
              "        text-align: right;\n",
              "    }\n",
              "</style>\n",
              "<table border=\"1\" class=\"dataframe\">\n",
              "  <thead>\n",
              "    <tr style=\"text-align: right;\">\n",
              "      <th></th>\n",
              "      <th>transactionId</th>\n",
              "      <th>visitorId</th>\n",
              "      <th>date</th>\n",
              "      <th>revenue</th>\n",
              "      <th>group</th>\n",
              "    </tr>\n",
              "  </thead>\n",
              "  <tbody>\n",
              "    <tr>\n",
              "      <th>0</th>\n",
              "      <td>-627003509</td>\n",
              "      <td>-982708370</td>\n",
              "      <td>2019-08-15</td>\n",
              "      <td>30.400000</td>\n",
              "      <td>B</td>\n",
              "    </tr>\n",
              "    <tr>\n",
              "      <th>1</th>\n",
              "      <td>-1490567287</td>\n",
              "      <td>-652161260</td>\n",
              "      <td>2019-08-15</td>\n",
              "      <td>15.200000</td>\n",
              "      <td>B</td>\n",
              "    </tr>\n",
              "    <tr>\n",
              "      <th>2</th>\n",
              "      <td>-1333411940</td>\n",
              "      <td>-225470894</td>\n",
              "      <td>2019-08-15</td>\n",
              "      <td>10.200000</td>\n",
              "      <td>A</td>\n",
              "    </tr>\n",
              "    <tr>\n",
              "      <th>3</th>\n",
              "      <td>-497499951</td>\n",
              "      <td>1196621759</td>\n",
              "      <td>2019-08-15</td>\n",
              "      <td>155.100006</td>\n",
              "      <td>B</td>\n",
              "    </tr>\n",
              "    <tr>\n",
              "      <th>4</th>\n",
              "      <td>-2011983590</td>\n",
              "      <td>-1972687409</td>\n",
              "      <td>2019-08-15</td>\n",
              "      <td>40.500000</td>\n",
              "      <td>B</td>\n",
              "    </tr>\n",
              "  </tbody>\n",
              "</table>\n",
              "</div>"
            ],
            "text/plain": [
              "   transactionId   visitorId       date     revenue group\n",
              "0     -627003509  -982708370 2019-08-15   30.400000     B\n",
              "1    -1490567287  -652161260 2019-08-15   15.200000     B\n",
              "2    -1333411940  -225470894 2019-08-15   10.200000     A\n",
              "3     -497499951  1196621759 2019-08-15  155.100006     B\n",
              "4    -2011983590 -1972687409 2019-08-15   40.500000     B"
            ]
          },
          "execution_count": 21,
          "metadata": {},
          "output_type": "execute_result"
        }
      ],
      "source": [
        "# Verificando as primeiras linhas do DataFrame para garantir que os dados foram carregados corretamente\n",
        "orders.head()"
      ]
    },
    {
      "cell_type": "markdown",
      "metadata": {
        "id": "PBsQ8QeJm-xT"
      },
      "source": [
        "Valores negativos em `transactionId` e `visitorId` são incomuns e podem ser um resultado de problemas de registro no conjunto de dados. Normalmente, `transactionId` e `visitorId` são identificadores únicos que não devem ter valores negativos. Se esses valores estão aparecendo como negativos, pode haver problemas de coleta dos dados."
      ]
    },
    {
      "cell_type": "code",
      "execution_count": null,
      "metadata": {
        "id": "DhMt2q0zm-xT"
      },
      "outputs": [],
      "source": [
        "# Tranformando os valores negativos em absolutos\n",
        "orders['transactionId'] = orders['transactionId'].abs()\n",
        "orders['visitorId'] = orders['visitorId'].abs()"
      ]
    },
    {
      "cell_type": "code",
      "execution_count": null,
      "metadata": {
        "id": "nFtyb30bm-xT",
        "outputId": "9ffd905f-70bb-4239-bb3e-fafd8ad46575"
      },
      "outputs": [
        {
          "data": {
            "text/html": [
              "<div>\n",
              "<style scoped>\n",
              "    .dataframe tbody tr th:only-of-type {\n",
              "        vertical-align: middle;\n",
              "    }\n",
              "\n",
              "    .dataframe tbody tr th {\n",
              "        vertical-align: top;\n",
              "    }\n",
              "\n",
              "    .dataframe thead th {\n",
              "        text-align: right;\n",
              "    }\n",
              "</style>\n",
              "<table border=\"1\" class=\"dataframe\">\n",
              "  <thead>\n",
              "    <tr style=\"text-align: right;\">\n",
              "      <th></th>\n",
              "      <th>transactionId</th>\n",
              "      <th>visitorId</th>\n",
              "      <th>date</th>\n",
              "      <th>revenue</th>\n",
              "      <th>group</th>\n",
              "    </tr>\n",
              "  </thead>\n",
              "  <tbody>\n",
              "    <tr>\n",
              "      <th>0</th>\n",
              "      <td>627003509</td>\n",
              "      <td>982708370</td>\n",
              "      <td>2019-08-15</td>\n",
              "      <td>30.400000</td>\n",
              "      <td>B</td>\n",
              "    </tr>\n",
              "    <tr>\n",
              "      <th>1</th>\n",
              "      <td>1490567287</td>\n",
              "      <td>652161260</td>\n",
              "      <td>2019-08-15</td>\n",
              "      <td>15.200000</td>\n",
              "      <td>B</td>\n",
              "    </tr>\n",
              "    <tr>\n",
              "      <th>2</th>\n",
              "      <td>1333411940</td>\n",
              "      <td>225470894</td>\n",
              "      <td>2019-08-15</td>\n",
              "      <td>10.200000</td>\n",
              "      <td>A</td>\n",
              "    </tr>\n",
              "    <tr>\n",
              "      <th>3</th>\n",
              "      <td>497499951</td>\n",
              "      <td>1196621759</td>\n",
              "      <td>2019-08-15</td>\n",
              "      <td>155.100006</td>\n",
              "      <td>B</td>\n",
              "    </tr>\n",
              "    <tr>\n",
              "      <th>4</th>\n",
              "      <td>2011983590</td>\n",
              "      <td>1972687409</td>\n",
              "      <td>2019-08-15</td>\n",
              "      <td>40.500000</td>\n",
              "      <td>B</td>\n",
              "    </tr>\n",
              "  </tbody>\n",
              "</table>\n",
              "</div>"
            ],
            "text/plain": [
              "   transactionId   visitorId       date     revenue group\n",
              "0      627003509   982708370 2019-08-15   30.400000     B\n",
              "1     1490567287   652161260 2019-08-15   15.200000     B\n",
              "2     1333411940   225470894 2019-08-15   10.200000     A\n",
              "3      497499951  1196621759 2019-08-15  155.100006     B\n",
              "4     2011983590  1972687409 2019-08-15   40.500000     B"
            ]
          },
          "execution_count": 23,
          "metadata": {},
          "output_type": "execute_result"
        }
      ],
      "source": [
        "orders.head()"
      ]
    },
    {
      "cell_type": "code",
      "execution_count": null,
      "metadata": {
        "id": "n9ZTDmc9m-xT",
        "outputId": "71f66f5c-0dc4-422b-ee44-0824b8418b0a"
      },
      "outputs": [
        {
          "name": "stdout",
          "output_type": "stream",
          "text": [
            "Quantidade de valores de transactionId negativos: 0\n"
          ]
        }
      ],
      "source": [
        "# Filtrando os pedidos com transactionId negativos\n",
        "negative_transaction_ids = orders[orders['transactionId'] < 0]\n",
        "\n",
        "# Contando a quantidade de pedidos com transactionId negativos\n",
        "count_negative_transaction_ids = len(negative_transaction_ids)\n",
        "\n",
        "print(\"Quantidade de valores de transactionId negativos:\", count_negative_transaction_ids)"
      ]
    },
    {
      "cell_type": "markdown",
      "metadata": {
        "id": "CUncSJNem-xT"
      },
      "source": [
        "Carregamos os conjuntos de dados, e fizemos algumas conversões de tipos e correções dos valores negativos nos campos transactionId e visitorId. Isso é uma etapa importante para garantir que os dados estejam corretamente formatados e prontos para análise.\n",
        "\n",
        "- Vamos otimizar o dataframe `visits` agora"
      ]
    },
    {
      "cell_type": "code",
      "execution_count": null,
      "metadata": {
        "id": "1sCNZA2mm-xU",
        "outputId": "c60339c4-7d88-49cc-ba9a-1154d13e2a9e"
      },
      "outputs": [
        {
          "name": "stdout",
          "output_type": "stream",
          "text": [
            "<class 'pandas.core.frame.DataFrame'>\n",
            "RangeIndex: 62 entries, 0 to 61\n",
            "Data columns (total 3 columns):\n",
            " #   Column  Non-Null Count  Dtype \n",
            "---  ------  --------------  ----- \n",
            " 0   date    62 non-null     object\n",
            " 1   group   62 non-null     object\n",
            " 2   visits  62 non-null     int64 \n",
            "dtypes: int64(1), object(2)\n",
            "memory usage: 8.2 KB\n"
          ]
        }
      ],
      "source": [
        "# Analisando informações detalhadas do dataframe\n",
        "visits.info(memory_usage='deep')"
      ]
    },
    {
      "cell_type": "code",
      "execution_count": null,
      "metadata": {
        "id": "PI_YU4hZm-xU"
      },
      "outputs": [],
      "source": [
        "# Lendo o arquivo visits com os tipos de dados otimizados e colunas de datas analisadas\n",
        "visits = pd.read_csv('/datasets/visits_us.csv', parse_dates=['date'], dtype={'group':'category', 'visits':'int32'})"
      ]
    },
    {
      "cell_type": "code",
      "execution_count": null,
      "metadata": {
        "id": "xFIFolEtm-xU",
        "outputId": "7aa61330-c2d1-4ad9-ef62-8238e62113c6"
      },
      "outputs": [
        {
          "name": "stdout",
          "output_type": "stream",
          "text": [
            "<class 'pandas.core.frame.DataFrame'>\n",
            "RangeIndex: 62 entries, 0 to 61\n",
            "Data columns (total 3 columns):\n",
            " #   Column  Non-Null Count  Dtype         \n",
            "---  ------  --------------  -----         \n",
            " 0   date    62 non-null     datetime64[ns]\n",
            " 1   group   62 non-null     category      \n",
            " 2   visits  62 non-null     int32         \n",
            "dtypes: category(1), datetime64[ns](1), int32(1)\n",
            "memory usage: 1.0 KB\n"
          ]
        }
      ],
      "source": [
        "# Verificando a otimização\n",
        "visits.info(memory_usage='deep')"
      ]
    },
    {
      "cell_type": "code",
      "execution_count": null,
      "metadata": {
        "id": "LjEHcfPGm-xU",
        "outputId": "6c7bfcf6-5b80-43fb-ad17-27fbf55a06d3"
      },
      "outputs": [
        {
          "data": {
            "text/html": [
              "<div>\n",
              "<style scoped>\n",
              "    .dataframe tbody tr th:only-of-type {\n",
              "        vertical-align: middle;\n",
              "    }\n",
              "\n",
              "    .dataframe tbody tr th {\n",
              "        vertical-align: top;\n",
              "    }\n",
              "\n",
              "    .dataframe thead th {\n",
              "        text-align: right;\n",
              "    }\n",
              "</style>\n",
              "<table border=\"1\" class=\"dataframe\">\n",
              "  <thead>\n",
              "    <tr style=\"text-align: right;\">\n",
              "      <th></th>\n",
              "      <th>date</th>\n",
              "      <th>group</th>\n",
              "      <th>visits</th>\n",
              "    </tr>\n",
              "  </thead>\n",
              "  <tbody>\n",
              "    <tr>\n",
              "      <th>0</th>\n",
              "      <td>2019-08-01</td>\n",
              "      <td>A</td>\n",
              "      <td>719</td>\n",
              "    </tr>\n",
              "    <tr>\n",
              "      <th>1</th>\n",
              "      <td>2019-08-02</td>\n",
              "      <td>A</td>\n",
              "      <td>619</td>\n",
              "    </tr>\n",
              "    <tr>\n",
              "      <th>2</th>\n",
              "      <td>2019-08-03</td>\n",
              "      <td>A</td>\n",
              "      <td>507</td>\n",
              "    </tr>\n",
              "    <tr>\n",
              "      <th>3</th>\n",
              "      <td>2019-08-04</td>\n",
              "      <td>A</td>\n",
              "      <td>717</td>\n",
              "    </tr>\n",
              "    <tr>\n",
              "      <th>4</th>\n",
              "      <td>2019-08-05</td>\n",
              "      <td>A</td>\n",
              "      <td>756</td>\n",
              "    </tr>\n",
              "  </tbody>\n",
              "</table>\n",
              "</div>"
            ],
            "text/plain": [
              "        date group  visits\n",
              "0 2019-08-01     A     719\n",
              "1 2019-08-02     A     619\n",
              "2 2019-08-03     A     507\n",
              "3 2019-08-04     A     717\n",
              "4 2019-08-05     A     756"
            ]
          },
          "execution_count": 28,
          "metadata": {},
          "output_type": "execute_result"
        }
      ],
      "source": [
        "# Analisando as primeiras linhas do dataframe\n",
        "visits.head()"
      ]
    },
    {
      "cell_type": "code",
      "execution_count": null,
      "metadata": {
        "id": "D2h1SRkim-xU",
        "outputId": "495fdcb3-c53f-4ff7-d0fc-d046fd3f9243"
      },
      "outputs": [
        {
          "data": {
            "text/plain": [
              "0"
            ]
          },
          "execution_count": 29,
          "metadata": {},
          "output_type": "execute_result"
        }
      ],
      "source": [
        "# Verificando duplicados\n",
        "orders.duplicated().sum()"
      ]
    },
    {
      "cell_type": "code",
      "execution_count": null,
      "metadata": {
        "id": "SkiMIXylm-xU",
        "outputId": "f6fff039-29f9-412a-9d4e-e756379d58d8"
      },
      "outputs": [
        {
          "data": {
            "text/plain": [
              "0"
            ]
          },
          "execution_count": 30,
          "metadata": {},
          "output_type": "execute_result"
        }
      ],
      "source": [
        "visits.duplicated().sum()"
      ]
    },
    {
      "cell_type": "markdown",
      "metadata": {
        "id": "Nn8aeYGam-xU"
      },
      "source": [
        "- Otimizamos o DataFrame visits da mesma forma que fizemos com o DataFrame orders. Otimizamos os tipos de dados das colunas e analisamos as datas. Além disso, verificamos que não há duplicados."
      ]
    },
    {
      "cell_type": "markdown",
      "metadata": {
        "id": "2bbDPmFHm-xU"
      },
      "source": [
        "### Faça um gráfico da receita acumulada por grupo. Tire conclusões e crie conjecturas.\n",
        "\n",
        "Podem haver visitantes que estão em ambos os grupos A e B, precisamos lidar com isso também"
      ]
    },
    {
      "cell_type": "code",
      "execution_count": null,
      "metadata": {
        "id": "cplnhINpm-xU"
      },
      "outputs": [],
      "source": [
        "# Mesclando os dados de orders_df e visits_df com base em 'date' e 'group'\n",
        "merged_orders_visits = orders.merge(visits, on=['date', 'group'], how='left')"
      ]
    },
    {
      "cell_type": "code",
      "execution_count": null,
      "metadata": {
        "id": "YTt32isfm-xU"
      },
      "outputs": [],
      "source": [
        "# Pré-processamento para lidar com possíveis entradas duplicadas ou inconsistentes\n",
        "merged_orders_visits = merged_orders_visits.drop_duplicates(subset=['transactionId', 'visitorId'])"
      ]
    },
    {
      "cell_type": "code",
      "execution_count": null,
      "metadata": {
        "id": "5d7LmLCdm-xU"
      },
      "outputs": [],
      "source": [
        "# Ordenando o DataFrame pela coluna 'date'\n",
        "merged_orders_visits = merged_orders_visits.sort_values(by='date')"
      ]
    },
    {
      "cell_type": "code",
      "execution_count": null,
      "metadata": {
        "id": "vbcGh9TWm-xU",
        "outputId": "c4a1f417-14c6-48c9-d556-b62d37c660df"
      },
      "outputs": [
        {
          "data": {
            "text/html": [
              "<div>\n",
              "<style scoped>\n",
              "    .dataframe tbody tr th:only-of-type {\n",
              "        vertical-align: middle;\n",
              "    }\n",
              "\n",
              "    .dataframe tbody tr th {\n",
              "        vertical-align: top;\n",
              "    }\n",
              "\n",
              "    .dataframe thead th {\n",
              "        text-align: right;\n",
              "    }\n",
              "</style>\n",
              "<table border=\"1\" class=\"dataframe\">\n",
              "  <thead>\n",
              "    <tr style=\"text-align: right;\">\n",
              "      <th></th>\n",
              "      <th>transactionId</th>\n",
              "      <th>visitorId</th>\n",
              "      <th>date</th>\n",
              "      <th>revenue</th>\n",
              "      <th>group</th>\n",
              "      <th>visits</th>\n",
              "    </tr>\n",
              "  </thead>\n",
              "  <tbody>\n",
              "    <tr>\n",
              "      <th>168</th>\n",
              "      <td>2065527789</td>\n",
              "      <td>1581167209</td>\n",
              "      <td>2019-08-01</td>\n",
              "      <td>30.400000</td>\n",
              "      <td>A</td>\n",
              "      <td>719</td>\n",
              "    </tr>\n",
              "    <tr>\n",
              "      <th>73</th>\n",
              "      <td>1295850747</td>\n",
              "      <td>1347866301</td>\n",
              "      <td>2019-08-01</td>\n",
              "      <td>455.799988</td>\n",
              "      <td>A</td>\n",
              "      <td>719</td>\n",
              "    </tr>\n",
              "    <tr>\n",
              "      <th>72</th>\n",
              "      <td>477940151</td>\n",
              "      <td>1422773200</td>\n",
              "      <td>2019-08-01</td>\n",
              "      <td>15.800000</td>\n",
              "      <td>A</td>\n",
              "      <td>719</td>\n",
              "    </tr>\n",
              "    <tr>\n",
              "      <th>71</th>\n",
              "      <td>615837995</td>\n",
              "      <td>8300375</td>\n",
              "      <td>2019-08-01</td>\n",
              "      <td>165.699997</td>\n",
              "      <td>B</td>\n",
              "      <td>713</td>\n",
              "    </tr>\n",
              "    <tr>\n",
              "      <th>70</th>\n",
              "      <td>720560130</td>\n",
              "      <td>1966589229</td>\n",
              "      <td>2019-08-01</td>\n",
              "      <td>140.399994</td>\n",
              "      <td>B</td>\n",
              "      <td>713</td>\n",
              "    </tr>\n",
              "  </tbody>\n",
              "</table>\n",
              "</div>"
            ],
            "text/plain": [
              "     transactionId   visitorId       date     revenue group  visits\n",
              "168     2065527789  1581167209 2019-08-01   30.400000     A     719\n",
              "73      1295850747  1347866301 2019-08-01  455.799988     A     719\n",
              "72       477940151  1422773200 2019-08-01   15.800000     A     719\n",
              "71       615837995     8300375 2019-08-01  165.699997     B     713\n",
              "70       720560130  1966589229 2019-08-01  140.399994     B     713"
            ]
          },
          "execution_count": 34,
          "metadata": {},
          "output_type": "execute_result"
        }
      ],
      "source": [
        "# Verificando o dataframe criado\n",
        "merged_orders_visits.head()"
      ]
    },
    {
      "cell_type": "markdown",
      "metadata": {
        "id": "Nd-MXdLqm-xU"
      },
      "source": [
        "- Vamos usar o `.cumsum()` que é uma função que significa \"cumulative sum\", ou seja, é uma soma cumulativa.\n",
        "\n",
        "Criando uma nova coluna chamada revenue_accumulated no DataFrame merged_orders_visits que contém a soma acumulada da coluna revenue para cada grupo. A cada linha, o valor na coluna revenue_accumulated é a soma de todas as receitas anteriores (incluindo a receita da linha atual) para o mesmo grupo."
      ]
    },
    {
      "cell_type": "code",
      "execution_count": null,
      "metadata": {
        "id": "Tt-0f13Wm-xU"
      },
      "outputs": [],
      "source": [
        "# Calculando a receita acumulada por grupo\n",
        "revenue_accumulated = merged_orders_visits.groupby('group')['revenue'].cumsum()"
      ]
    },
    {
      "cell_type": "code",
      "execution_count": null,
      "metadata": {
        "id": "i3J6H-4wm-xU",
        "outputId": "876fadf5-33c3-430b-e25d-c3c64755f946"
      },
      "outputs": [
        {
          "data": {
            "image/png": "[encoded data removed]",
            "text/plain": [
              "<Figure size 720x432 with 1 Axes>"
            ]
          },
          "metadata": {},
          "output_type": "display_data"
        }
      ],
      "source": [
        "# Criando um gráfico da receita acumulada por grupo\n",
        "plt.figure(figsize=(10, 6))\n",
        "for group, group_data in merged_orders_visits.groupby('group'):\n",
        "    plt.plot(group_data['date'], revenue_accumulated[group_data.index], label=group)\n",
        "\n",
        "# Rotacionando os rótulos das datas\n",
        "plt.gcf().autofmt_xdate()\n",
        "plt.xlabel('Data')\n",
        "plt.ylabel('Receita Acumulada')\n",
        "plt.title('Receita Acumulada por Grupo')\n",
        "plt.legend()\n",
        "plt.grid(True)\n",
        "plt.show()"
      ]
    },
    {
      "cell_type": "markdown",
      "metadata": {
        "id": "UrbS6JY9m-xV"
      },
      "source": [
        "Com base na análise do gráfico da receita acumulada por grupo, com destaque para a subida importante de receita no grupo B na data de 2019-08-21, podemos chegar a algumas conclusões preliminares e criar conjecturas sobre os resultados do teste A/B:\n",
        "\n",
        "**Conclusões**:\n",
        "\n",
        "1. **Impacto de Eventos Específicos**: A subida acentuada na receita no grupo B em 2019-08-21 sugere que algo significativo aconteceu nesse dia, causando um aumento nas conversões ou no valor médio dos pedidos.\n",
        "\n",
        "2. **Diferenças no Desempenho dos Grupos**: Ao longo do tempo, o grupo B mostrou-se capaz de gerar receita maior do que o grupo A, especialmente evidente após a data destacada.\n",
        "\n",
        "3. **Mudanças Bem-Sucedidas**: Se a subida na receita foi o resultado direto de mudanças introduzidas pelo teste A/B, isso pode indicar que as alterações realizadas no grupo B foram bem-sucedidas em direcionar mais conversões ou pedidos de valor mais alto.\n",
        "\n",
        "4. **Tendências Gerais**: Ambos os grupos A e B mostram um aumento gradual na receita ao longo do período analisado. Isso sugere que ambos os grupos estão gerando receita, mas é importante observar a diferença na taxa de crescimento.\n",
        "\n",
        "**Conjecturas**:\n",
        "\n",
        "1. **Mudanças no Site**: É possível que o grupo B tenha experimentado mudanças no site, como otimizações de layout, funcionalidades adicionais ou melhorias na experiência do usuário. Essas mudanças podem ter incentivado os usuários a fazer mais pedidos.\n",
        "\n",
        "2. **Promoções ou Ofertas**: Pode ser que o grupo B tenha recebido promoções ou ofertas especiais nesse dia, o que levou a um aumento na conversão. Promoções temporárias podem influenciar as decisões dos clientes.\n",
        "\n",
        "3. **Testes Bem-Sucedidos**: Se o aumento na receita é resultado de um teste A/B bem-sucedido, pode indicar que as hipóteses ou mudanças implementadas no grupo B tiveram um impacto positivo nas métricas de conversão e receita.\n",
        "\n",
        "4. **Comportamento do Usuário**: Mudanças nas preferências ou comportamento do usuário podem ter ocorrido, levando a uma maior adesão às ofertas ou produtos no grupo B.\n",
        "\n",
        "5. **Evento Externo**: É possível que um evento externo tenha ocorrido nesse dia, como uma promoção em outra plataforma, que trouxe mais tráfego qualificado para o grupo B.\n",
        "\n",
        "6. **Segmentação de Público**: Pode ser que o grupo B tenha sido mais segmentado e alinhado com um público mais propenso a converter, resultando em uma receita mais alta.\n",
        "\n",
        "7. **Sazonalidade**: Verifique se a data de 2019-08-21 coincide com algum evento sazonal, feriado ou outra circunstância que poderia ter influenciado as vendas.\n",
        "\n",
        "Essas conjecturas são baseadas em análises preliminares do gráfico e requerem investigação mais aprofundada e testes estatísticos para confirmar a relação causal entre as mudanças introduzidas pelo teste A/B e os resultados observados."
      ]
    },
    {
      "cell_type": "markdown",
      "metadata": {
        "id": "HpgNby-_m-xV"
      },
      "source": [
        "### Faça um gráfico do tamanho médio acumulado do pedido por grupo. Tire conclusões e crie conjecturas.\n",
        "\n",
        "Vamos criar um gráfico do tamanho médio acumulado do pedido por grupo ao longo do tempo utilizando o cálculo da média dos tamanhos dos pedidos para cada grupo. Em seguida, traçamos as curvas acumuladas de tamanho médio do pedido para os grupos A e B."
      ]
    },
    {
      "cell_type": "code",
      "execution_count": null,
      "metadata": {
        "id": "mDFkUDZWm-xV",
        "outputId": "4ed7a2c2-6c63-4ef6-c9d2-a4d65ea8f632"
      },
      "outputs": [
        {
          "data": {
            "text/plain": [
              "group\n",
              "A    115.897484\n",
              "B    145.063431\n",
              "Name: revenue, dtype: float32"
            ]
          },
          "execution_count": 37,
          "metadata": {},
          "output_type": "execute_result"
        }
      ],
      "source": [
        "# Calculando o tamanho médio dos pedidos por grupo\n",
        "average_order_size = merged_orders_visits.groupby('group')['revenue'].mean()\n",
        "average_order_size"
      ]
    },
    {
      "cell_type": "code",
      "execution_count": null,
      "metadata": {
        "id": "DDfE3YtEm-xV",
        "outputId": "ec2d0ad2-dfaf-4322-ec97-78dd0dbcf176"
      },
      "outputs": [
        {
          "data": {
            "text/html": [
              "<div>\n",
              "<style scoped>\n",
              "    .dataframe tbody tr th:only-of-type {\n",
              "        vertical-align: middle;\n",
              "    }\n",
              "\n",
              "    .dataframe tbody tr th {\n",
              "        vertical-align: top;\n",
              "    }\n",
              "\n",
              "    .dataframe thead th {\n",
              "        text-align: right;\n",
              "    }\n",
              "</style>\n",
              "<table border=\"1\" class=\"dataframe\">\n",
              "  <thead>\n",
              "    <tr style=\"text-align: right;\">\n",
              "      <th>group</th>\n",
              "      <th>A</th>\n",
              "      <th>B</th>\n",
              "    </tr>\n",
              "    <tr>\n",
              "      <th>date</th>\n",
              "      <th></th>\n",
              "      <th></th>\n",
              "    </tr>\n",
              "  </thead>\n",
              "  <tbody>\n",
              "    <tr>\n",
              "      <th>2019-08-01</th>\n",
              "      <td>98.199997</td>\n",
              "      <td>77.142860</td>\n",
              "    </tr>\n",
              "    <tr>\n",
              "      <th>2019-08-02</th>\n",
              "      <td>173.375000</td>\n",
              "      <td>186.467865</td>\n",
              "    </tr>\n",
              "    <tr>\n",
              "      <th>2019-08-03</th>\n",
              "      <td>249.008331</td>\n",
              "      <td>299.392883</td>\n",
              "    </tr>\n",
              "    <tr>\n",
              "      <th>2019-08-04</th>\n",
              "      <td>320.670837</td>\n",
              "      <td>400.410522</td>\n",
              "    </tr>\n",
              "    <tr>\n",
              "      <th>2019-08-05</th>\n",
              "      <td>400.194824</td>\n",
              "      <td>465.410522</td>\n",
              "    </tr>\n",
              "  </tbody>\n",
              "</table>\n",
              "</div>"
            ],
            "text/plain": [
              "group                A           B\n",
              "date                              \n",
              "2019-08-01   98.199997   77.142860\n",
              "2019-08-02  173.375000  186.467865\n",
              "2019-08-03  249.008331  299.392883\n",
              "2019-08-04  320.670837  400.410522\n",
              "2019-08-05  400.194824  465.410522"
            ]
          },
          "execution_count": 38,
          "metadata": {},
          "output_type": "execute_result"
        }
      ],
      "source": [
        "# Utilizando pivot_table para calcular o tamanho médio acumulado dos pedidos por grupo\n",
        "average_order_size_accumulated = merged_orders_visits.pivot_table(index='date', columns='group', values='revenue', aggfunc='mean').cumsum()\n",
        "average_order_size_accumulated.head()"
      ]
    },
    {
      "cell_type": "code",
      "execution_count": null,
      "metadata": {
        "id": "8ACXB_ydm-xV",
        "outputId": "51b4101f-28bc-442f-9340-87f76400f7b9"
      },
      "outputs": [
        {
          "data": {
            "image/png": "[encoded data removed]",
            "text/plain": [
              "<Figure size 720x432 with 1 Axes>"
            ]
          },
          "metadata": {},
          "output_type": "display_data"
        }
      ],
      "source": [
        "# Criando um gráfico do tamanho médio acumulado do pedido por grupo\n",
        "plt.figure(figsize=(10, 6))\n",
        "\n",
        "plt.plot(average_order_size_accumulated.index, average_order_size_accumulated['A'], label='Grupo A')\n",
        "plt.plot(average_order_size_accumulated.index, average_order_size_accumulated['B'], label='Grupo B')\n",
        "\n",
        "# Rotacionando os rótulos\n",
        "plt.gcf().autofmt_xdate()\n",
        "plt.xlabel('Data')\n",
        "plt.ylabel('Tamanho Médio Acumulado do Pedido')\n",
        "plt.title('Tamanho Médio Acumulado do Pedido por Grupo')\n",
        "plt.legend()\n",
        "plt.grid(True)\n",
        "plt.show()"
      ]
    },
    {
      "cell_type": "markdown",
      "metadata": {
        "id": "11YMxmucm-xV"
      },
      "source": [
        "**Conclusões**:\n",
        "\n",
        "1. **Pico Significativo no Grupo B**: Entre 2019-08-17 e 2019-08-21, há um pico acentuado no tamanho médio acumulado do pedido no grupo B. Essa diferença é notável e sugere uma alteração substancial no comportamento de compra desse grupo durante esse período.\n",
        "\n",
        "**Conjecturas**:\n",
        "\n",
        "1. **Introdução de Mudanças Estratégicas**: A variação significativa no tamanho médio acumulado do pedido no grupo B durante esse período pode indicar a introdução de mudanças estratégicas específicas para esse grupo. Essas mudanças podem incluir promoções temporárias, novos produtos ou características que incentivaram os clientes do grupo B a comprar mais.\n",
        "\n",
        "2. **Evento ou Promoção Especial**: O pico pode ser resultado de um evento especial, como um feriado, evento de vendas ou uma promoção direcionada especificamente ao grupo B. Esses eventos podem ter levado os clientes a fazerem compras maiores.\n",
        "\n",
        "3. **Estratégias de Segmentação Eficientes**: O período de pico pode sugerir que as estratégias de segmentação de público-alvo para o grupo B foram particularmente eficazes durante esses dias. Isso pode indicar uma compreensão profunda das preferências e comportamentos desse grupo.\n",
        "\n",
        "4. **Feedback ou Teste A/B Bem-Sucedido**: Pode ser que o grupo B tenha respondido positivamente a mudanças implementadas como resultado de feedback dos usuários ou de um teste A/B específico. O sucesso dessas mudanças pode ter contribuído para o aumento das compras.\n",
        "\n",
        "5. **Ações Reativas**: Mudanças no mercado, ações da concorrência ou outros fatores externos podem ter influenciado o comportamento de compra nesse período. A reação do grupo B pode ter sido mais intensa do que a do grupo A.\n",
        "\n",
        "6. **Influência de Tendências Temporais**: As tendências de compra dos consumidores podem variar de acordo com a época do ano, feriados ou outros fatores temporais. O pico pode ser parte de um padrão sazonal que afeta mais fortemente o grupo B.\n",
        "\n",
        "Essa análise reforça ainda mais a importância de considerar informações específicas de datas para tirar conclusões mais precisas. No entanto, para confirmar ou refutar essas conjecturas, uma análise mais profunda, incluindo possíveis dados adicionais e análises estatísticas, seria necessária."
      ]
    },
    {
      "cell_type": "markdown",
      "metadata": {
        "id": "Etv2VdfTm-xV"
      },
      "source": [
        "### Faça um gráfico da diferença relativa no tamanho médio acumulado do pedido para o grupo B em comparação com o grupo A. Faça conclusões e crie conjecturas.\n",
        "\n",
        "Vamos criar um gráfico da diferença relativa no tamanho médio acumulado do pedido para o grupo B em comparação com o grupo A ao longo do tempo. Essa diferença relativa é calculada como a razão do tamanho médio do pedido do grupo B pelo tamanho médio do pedido do grupo A, subtraindo 1 e expressando como uma porcentagem."
      ]
    },
    {
      "cell_type": "code",
      "execution_count": null,
      "metadata": {
        "id": "T4l7AJJom-xV",
        "outputId": "3b7ad442-efec-4a9d-bda0-b536df167c9f"
      },
      "outputs": [
        {
          "data": {
            "text/html": [
              "<div>\n",
              "<style scoped>\n",
              "    .dataframe tbody tr th:only-of-type {\n",
              "        vertical-align: middle;\n",
              "    }\n",
              "\n",
              "    .dataframe tbody tr th {\n",
              "        vertical-align: top;\n",
              "    }\n",
              "\n",
              "    .dataframe thead th {\n",
              "        text-align: right;\n",
              "    }\n",
              "</style>\n",
              "<table border=\"1\" class=\"dataframe\">\n",
              "  <thead>\n",
              "    <tr style=\"text-align: right;\">\n",
              "      <th></th>\n",
              "      <th>group</th>\n",
              "      <th>date</th>\n",
              "      <th>revenue</th>\n",
              "      <th>transactionId</th>\n",
              "    </tr>\n",
              "  </thead>\n",
              "  <tbody>\n",
              "    <tr>\n",
              "      <th>0</th>\n",
              "      <td>A</td>\n",
              "      <td>2019-08-01</td>\n",
              "      <td>2356.800049</td>\n",
              "      <td>24</td>\n",
              "    </tr>\n",
              "    <tr>\n",
              "      <th>1</th>\n",
              "      <td>A</td>\n",
              "      <td>2019-08-02</td>\n",
              "      <td>3860.300049</td>\n",
              "      <td>44</td>\n",
              "    </tr>\n",
              "    <tr>\n",
              "      <th>2</th>\n",
              "      <td>A</td>\n",
              "      <td>2019-08-03</td>\n",
              "      <td>5675.500000</td>\n",
              "      <td>68</td>\n",
              "    </tr>\n",
              "    <tr>\n",
              "      <th>3</th>\n",
              "      <td>A</td>\n",
              "      <td>2019-08-04</td>\n",
              "      <td>6822.100098</td>\n",
              "      <td>84</td>\n",
              "    </tr>\n",
              "    <tr>\n",
              "      <th>4</th>\n",
              "      <td>A</td>\n",
              "      <td>2019-08-05</td>\n",
              "      <td>8810.200195</td>\n",
              "      <td>109</td>\n",
              "    </tr>\n",
              "  </tbody>\n",
              "</table>\n",
              "</div>"
            ],
            "text/plain": [
              "  group       date      revenue  transactionId\n",
              "0     A 2019-08-01  2356.800049             24\n",
              "1     A 2019-08-02  3860.300049             44\n",
              "2     A 2019-08-03  5675.500000             68\n",
              "3     A 2019-08-04  6822.100098             84\n",
              "4     A 2019-08-05  8810.200195            109"
            ]
          },
          "execution_count": 40,
          "metadata": {},
          "output_type": "execute_result"
        }
      ],
      "source": [
        "# Calculando a receita cumulativa e os pedidos cumulativos por dia e grupo\n",
        "cumulative_data = merged_orders_visits.groupby(['group', 'date']).agg({'revenue': 'sum', 'transactionId': 'nunique'}).groupby('group').cumsum().reset_index()\n",
        "cumulative_data.head()"
      ]
    },
    {
      "cell_type": "code",
      "execution_count": null,
      "metadata": {
        "id": "qDlqU-7Km-xV"
      },
      "outputs": [],
      "source": [
        "# Filtrando os dados por grupo A e grupo B\n",
        "cumulative_revenue_A = cumulative_data[cumulative_data['group'] == 'A'][['date', 'revenue', 'transactionId']]\n",
        "cumulative_revenue_B = cumulative_data[cumulative_data['group'] == 'B'][['date', 'revenue', 'transactionId']]"
      ]
    },
    {
      "cell_type": "code",
      "execution_count": null,
      "metadata": {
        "id": "IJ8HbDNtm-xV",
        "outputId": "3679a5e8-f740-498c-b72d-e90d652b346e"
      },
      "outputs": [
        {
          "data": {
            "image/png": "[encoded data removed]",
            "text/plain": [
              "<Figure size 432x288 with 1 Axes>"
            ]
          },
          "metadata": {},
          "output_type": "display_data"
        }
      ],
      "source": [
        "# Criando um gráfico de receita acumulada para cada grupo\n",
        "plt.plot(cumulative_revenue_A['date'], cumulative_revenue_A['revenue'], label='Grupo A')\n",
        "plt.plot(cumulative_revenue_B['date'], cumulative_revenue_B['revenue'], label='Grupo B')\n",
        "plt.gcf().autofmt_xdate()"
      ]
    },
    {
      "cell_type": "code",
      "execution_count": null,
      "metadata": {
        "id": "6J9EEcqnm-xV",
        "outputId": "2e63d199-f4de-407a-e0ed-8fde90920b7b"
      },
      "outputs": [
        {
          "data": {
            "text/html": [
              "<div>\n",
              "<style scoped>\n",
              "    .dataframe tbody tr th:only-of-type {\n",
              "        vertical-align: middle;\n",
              "    }\n",
              "\n",
              "    .dataframe tbody tr th {\n",
              "        vertical-align: top;\n",
              "    }\n",
              "\n",
              "    .dataframe thead th {\n",
              "        text-align: right;\n",
              "    }\n",
              "</style>\n",
              "<table border=\"1\" class=\"dataframe\">\n",
              "  <thead>\n",
              "    <tr style=\"text-align: right;\">\n",
              "      <th></th>\n",
              "      <th>date</th>\n",
              "      <th>revenue_A</th>\n",
              "      <th>transactionId_A</th>\n",
              "      <th>revenue_B</th>\n",
              "      <th>transactionId_B</th>\n",
              "    </tr>\n",
              "  </thead>\n",
              "  <tbody>\n",
              "    <tr>\n",
              "      <th>0</th>\n",
              "      <td>2019-08-01</td>\n",
              "      <td>2356.800049</td>\n",
              "      <td>24</td>\n",
              "      <td>1620.000000</td>\n",
              "      <td>21</td>\n",
              "    </tr>\n",
              "    <tr>\n",
              "      <th>1</th>\n",
              "      <td>2019-08-02</td>\n",
              "      <td>3860.300049</td>\n",
              "      <td>44</td>\n",
              "      <td>4243.799805</td>\n",
              "      <td>45</td>\n",
              "    </tr>\n",
              "    <tr>\n",
              "      <th>2</th>\n",
              "      <td>2019-08-03</td>\n",
              "      <td>5675.500000</td>\n",
              "      <td>68</td>\n",
              "      <td>6050.600098</td>\n",
              "      <td>61</td>\n",
              "    </tr>\n",
              "    <tr>\n",
              "      <th>3</th>\n",
              "      <td>2019-08-04</td>\n",
              "      <td>6822.100098</td>\n",
              "      <td>84</td>\n",
              "      <td>7767.900391</td>\n",
              "      <td>78</td>\n",
              "    </tr>\n",
              "    <tr>\n",
              "      <th>4</th>\n",
              "      <td>2019-08-05</td>\n",
              "      <td>8810.200195</td>\n",
              "      <td>109</td>\n",
              "      <td>9262.900391</td>\n",
              "      <td>101</td>\n",
              "    </tr>\n",
              "  </tbody>\n",
              "</table>\n",
              "</div>"
            ],
            "text/plain": [
              "        date    revenue_A  transactionId_A    revenue_B  transactionId_B\n",
              "0 2019-08-01  2356.800049               24  1620.000000               21\n",
              "1 2019-08-02  3860.300049               44  4243.799805               45\n",
              "2 2019-08-03  5675.500000               68  6050.600098               61\n",
              "3 2019-08-04  6822.100098               84  7767.900391               78\n",
              "4 2019-08-05  8810.200195              109  9262.900391              101"
            ]
          },
          "execution_count": 43,
          "metadata": {},
          "output_type": "execute_result"
        }
      ],
      "source": [
        "# Mesclando os dados de receita acumulada para calcular a diferença relativa no tamanho médio do pedido\n",
        "merged_cumulative_revenue = cumulative_revenue_A.merge(cumulative_revenue_B, on='date', suffixes=('_A', '_B'))\n",
        "merged_cumulative_revenue.head()"
      ]
    },
    {
      "cell_type": "code",
      "execution_count": null,
      "metadata": {
        "id": "cWZ_NXepm-xV",
        "outputId": "4ba791ac-6341-44a7-baa1-b9258a0a5396"
      },
      "outputs": [
        {
          "data": {
            "text/html": [
              "<div>\n",
              "<style scoped>\n",
              "    .dataframe tbody tr th:only-of-type {\n",
              "        vertical-align: middle;\n",
              "    }\n",
              "\n",
              "    .dataframe tbody tr th {\n",
              "        vertical-align: top;\n",
              "    }\n",
              "\n",
              "    .dataframe thead th {\n",
              "        text-align: right;\n",
              "    }\n",
              "</style>\n",
              "<table border=\"1\" class=\"dataframe\">\n",
              "  <thead>\n",
              "    <tr style=\"text-align: right;\">\n",
              "      <th></th>\n",
              "      <th>date</th>\n",
              "      <th>revenue_A</th>\n",
              "      <th>transactionId_A</th>\n",
              "      <th>revenue_B</th>\n",
              "      <th>transactionId_B</th>\n",
              "      <th>relative_difference</th>\n",
              "    </tr>\n",
              "  </thead>\n",
              "  <tbody>\n",
              "    <tr>\n",
              "      <th>0</th>\n",
              "      <td>2019-08-01</td>\n",
              "      <td>2356.800049</td>\n",
              "      <td>24</td>\n",
              "      <td>1620.000000</td>\n",
              "      <td>21</td>\n",
              "      <td>-0.214431</td>\n",
              "    </tr>\n",
              "    <tr>\n",
              "      <th>1</th>\n",
              "      <td>2019-08-02</td>\n",
              "      <td>3860.300049</td>\n",
              "      <td>44</td>\n",
              "      <td>4243.799805</td>\n",
              "      <td>45</td>\n",
              "      <td>0.074915</td>\n",
              "    </tr>\n",
              "    <tr>\n",
              "      <th>2</th>\n",
              "      <td>2019-08-03</td>\n",
              "      <td>5675.500000</td>\n",
              "      <td>68</td>\n",
              "      <td>6050.600098</td>\n",
              "      <td>61</td>\n",
              "      <td>0.188429</td>\n",
              "    </tr>\n",
              "    <tr>\n",
              "      <th>3</th>\n",
              "      <td>2019-08-04</td>\n",
              "      <td>6822.100098</td>\n",
              "      <td>84</td>\n",
              "      <td>7767.900391</td>\n",
              "      <td>78</td>\n",
              "      <td>0.226225</td>\n",
              "    </tr>\n",
              "    <tr>\n",
              "      <th>4</th>\n",
              "      <td>2019-08-05</td>\n",
              "      <td>8810.200195</td>\n",
              "      <td>109</td>\n",
              "      <td>9262.900391</td>\n",
              "      <td>101</td>\n",
              "      <td>0.134662</td>\n",
              "    </tr>\n",
              "  </tbody>\n",
              "</table>\n",
              "</div>"
            ],
            "text/plain": [
              "        date    revenue_A  transactionId_A    revenue_B  transactionId_B  \\\n",
              "0 2019-08-01  2356.800049               24  1620.000000               21   \n",
              "1 2019-08-02  3860.300049               44  4243.799805               45   \n",
              "2 2019-08-03  5675.500000               68  6050.600098               61   \n",
              "3 2019-08-04  6822.100098               84  7767.900391               78   \n",
              "4 2019-08-05  8810.200195              109  9262.900391              101   \n",
              "\n",
              "   relative_difference  \n",
              "0            -0.214431  \n",
              "1             0.074915  \n",
              "2             0.188429  \n",
              "3             0.226225  \n",
              "4             0.134662  "
            ]
          },
          "execution_count": 44,
          "metadata": {},
          "output_type": "execute_result"
        }
      ],
      "source": [
        "# Calculando a diferença relativa no tamanho médio do pedido\n",
        "merged_cumulative_revenue['relative_difference'] = ((merged_cumulative_revenue['revenue_B'] / merged_cumulative_revenue['transactionId_B']) /\n",
        "                                                    (merged_cumulative_revenue['revenue_A'] / merged_cumulative_revenue['transactionId_A'])) - 1\n",
        "merged_cumulative_revenue.head()"
      ]
    },
    {
      "cell_type": "code",
      "execution_count": null,
      "metadata": {
        "id": "qB7yWM_-m-xV",
        "outputId": "4adfffd1-ef00-4029-ad17-1d8447a111e7"
      },
      "outputs": [
        {
          "data": {
            "image/png": "[encoded data removed]",
            "text/plain": [
              "<Figure size 720x432 with 1 Axes>"
            ]
          },
          "metadata": {},
          "output_type": "display_data"
        }
      ],
      "source": [
        "# Criando um gráfico da diferença relativa\n",
        "plt.figure(figsize=(10, 6))\n",
        "\n",
        "plt.plot(merged_cumulative_revenue['date'], merged_cumulative_revenue['relative_difference'], label='Diferença Relativa')\n",
        "\n",
        "plt.gcf().autofmt_xdate()\n",
        "plt.xlabel('Data')\n",
        "plt.ylabel('Diferença Relativa (%)')\n",
        "plt.title('Diferença Relativa no Tamanho Médio do Pedido (Grupo B vs. Grupo A)')\n",
        "plt.axhline(y=0, color='gray', linestyle='--', label='Linha de Base (0%)')\n",
        "plt.legend()\n",
        "plt.grid(True)\n",
        "plt.show()"
      ]
    },
    {
      "cell_type": "markdown",
      "metadata": {
        "id": "nD1Ap__Em-xV"
      },
      "source": [
        "Analisando os gráficos acima podemos tirar algumas conclusões e fazer conjecturas:\n",
        "\n",
        "1. **Receita Acumulada por Grupo**:\n",
        "   - Ambos os grupos A e B tiveram um crescimento na receita acumulada ao longo do período analisado.\n",
        "   - No início, o grupo B estava abaixo do grupo A, mas a partir de meados de agosto de 2019, houve um aumento notável na receita do grupo B, superando o grupo A.\n",
        "   - O pico na receita do grupo B sugere que houve alguma mudança ou ação que impactou positivamente as vendas desse grupo durante esse período.\n",
        "\n",
        "2. **Tamanho Médio Acumulado do Pedido por Grupo**:\n",
        "   - Ambos os grupos apresentaram flutuações no tamanho médio do pedido, mas os tamanhos médios no geral são relativamente estáveis.\n",
        "   - Houve um aumento significativo no tamanho médio do pedido no grupo B entre 2019-08-17 e 2019-08-21.\n",
        "   - Esse aumento pode indicar que durante esse período, o grupo B teve um aumento nas compras de produtos mais caros ou em maior quantidade.\n",
        "\n",
        "3. **Diferença Relativa no Tamanho Médio Acumulado do Pedido**:\n",
        "   - O gráfico da diferença relativa mostra claramente os momentos em que a diferença entre os tamanhos médios do pedido dos grupos A e B teve alterações significativas.\n",
        "   - Durante certos períodos, a diferença relativa é positiva, indicando que o grupo B teve um tamanho médio de pedido maior do que o grupo A.\n",
        "   - O pico na diferença relativa no final de agosto de 2019 sugere que durante esse período, o grupo B experimentou um aumento substancial em relação ao tamanho médio do pedido em comparação com o grupo A.\n",
        "\n",
        "4. **Tendência Geral:** No início, a diferença relativa parece variar bastante, mas depois se estabiliza em torno de uma média próxima a zero. Isso sugere que, em geral, os tamanhos médios de pedido do grupo B e do grupo A tendem a ser semelhantes.\n",
        "\n",
        "***Conjecturas***:\n",
        "1. O aumento repentino na receita do grupo B a partir de meados de agosto pode estar relacionado a uma estratégia de marketing, promoção ou introdução de novos produtos que atraiu mais clientes desse grupo.\n",
        "\n",
        "2. O aumento no tamanho médio do pedido do grupo B durante vários períodos pode ser resultado de campanhas de venda de produtos premium ou pacotes que incentivaram compras maiores.\n",
        "\n",
        "3. A diferença relativa no tamanho médio do pedido entre os grupos A e B parece estar sujeita a flutuações periódicas, sugerindo que fatores sazonais, promoções específicas ou mudanças nas preferências dos clientes podem estar contribuindo para essas variações.\n",
        "\n",
        "4. A análise dos gráficos fornece insights valiosos para orientar futuras estratégias de marketing, ajustes de preços e desenvolvimento de produtos, a fim de maximizar o desempenho de vendas e receita dos grupos A e B."
      ]
    },
    {
      "cell_type": "markdown",
      "metadata": {
        "id": "uqjUiD5Km-xW"
      },
      "source": [
        "### Calcule a taxa de conversão de cada grupo como a proporção de pedidos para o número de visitas para cada dia. Trace as taxas de conversão diárias dos dois grupos e descreva a diferença. Tire conclusões e crie conjecturas.\n",
        "\n",
        "Vamos calcular a taxa de conversão diária para cada grupo dividindo o número de pedidos pelo número de visitas em cada dia e multiplicando por 100 para obter a taxa em porcentagem. Em seguida, plotamos as taxas de conversão diárias para os grupos A e B. Vamos traçar as taxas de conversão diárias ao longo do tempo para ajudar a entender a diferença entre os grupos."
      ]
    },
    {
      "cell_type": "code",
      "execution_count": null,
      "metadata": {
        "id": "uof23OSXm-xW"
      },
      "outputs": [],
      "source": [
        "# Calculando o número de pedidos e visitas por grupo e data\n",
        "daily_orders = merged_orders_visits.groupby(['group', 'date'])['transactionId'].nunique()\n",
        "daily_visits = merged_orders_visits.groupby(['group', 'date'])['visits'].sum()"
      ]
    },
    {
      "cell_type": "code",
      "execution_count": null,
      "metadata": {
        "id": "vTK2M4GJm-xW"
      },
      "outputs": [],
      "source": [
        "# Calculando a taxa de conversão diária para cada grupo\n",
        "conversion_rate_A = (daily_orders['A'] / daily_visits['A']) * 100\n",
        "conversion_rate_B = (daily_orders['B'] / daily_visits['B']) * 100"
      ]
    },
    {
      "cell_type": "code",
      "execution_count": null,
      "metadata": {
        "id": "0_0qdhqwm-xW",
        "outputId": "1c05f143-3e1f-43b8-e41f-95ae2b431318"
      },
      "outputs": [
        {
          "data": {
            "image/png": "[encoded data removed]",
            "text/plain": [
              "<Figure size 720x432 with 1 Axes>"
            ]
          },
          "metadata": {},
          "output_type": "display_data"
        }
      ],
      "source": [
        "# Criando um gráfico das taxas de conversão diárias\n",
        "plt.figure(figsize=(10, 6))\n",
        "\n",
        "plt.plot(conversion_rate_A.index, conversion_rate_A.values, label='Taxa de Conversão Grupo A')\n",
        "plt.plot(conversion_rate_B.index, conversion_rate_B.values, label='Taxa de Conversão Grupo B')\n",
        "\n",
        "plt.gcf().autofmt_xdate()\n",
        "plt.xlabel('Data')\n",
        "plt.ylabel('Taxa de Conversão (%)')\n",
        "plt.title('Taxas de Conversão Diárias por Grupo')\n",
        "plt.legend()\n",
        "plt.grid(True)\n",
        "plt.show()"
      ]
    },
    {
      "cell_type": "markdown",
      "metadata": {
        "id": "CkbJa6u1m-xW"
      },
      "source": [
        "**Diferença entre as Taxas de Conversão dos Grupos A e B**:\n",
        "\n",
        "A diferença entre as taxas de conversão dos grupos A e B é uma das observações mais notáveis ao analisar os dados. A taxa de conversão é a proporção de visitantes que realizam um pedido em relação ao número total de visitantes. A diferença nas taxas de conversão entre os dois grupos é a variação percentual na eficácia de converter visitantes em clientes entre esses grupos.\n",
        "\n",
        "**Conclusões**:\n",
        "\n",
        "1. **Taxa de Conversão Mais Alta do Grupo B**:\n",
        "   - Ao longo do período analisado, o grupo B apresenta uma taxa de conversão consistentemente mais alta do que o grupo A.\n",
        "   - Isso sugere que uma maior proporção de visitantes do grupo B está se transformando em clientes em comparação com o grupo A.\n",
        "   Embora haja semelhanças sazonais, as taxas de conversão dos grupos A e B têm algumas diferenças notáveis. O grupo B parece ter taxas de conversão um pouco mais altas em alguns momentos, enquanto o grupo A parece ter taxas mais baixas em outros. Essa diferença pode ser devido a uma série de fatores, incluindo mudanças de design, promoções específicas ou até mesmo a aleatoriedade dos dados.\n",
        "   \n",
        "\n",
        "2. **Estratégias Eficazes do Grupo B**:\n",
        "   - Uma possível explicação para essa diferença é que o grupo B pode estar implementando estratégias de marketing mais eficazes, otimizando a experiência do usuário ou oferecendo produtos e serviços mais atraentes.\n",
        "\n",
        "\n",
        "3. **Possível Superioridade na Abordagem de Vendas**:\n",
        "   - A diferença nas taxas de conversão pode indicar que o grupo B está aplicando abordagens de vendas mais persuasivas ou mais alinhadas às necessidades dos visitantes.\n",
        "   \n",
        "\n",
        "4. **Mudanças de Comportamento do Consumidor**:\n",
        "   - Flutuações nas taxas de conversão podem ser resultado das mudanças nas preferências dos consumidores ou na maneira como eles interagem com os sites.\n",
        "   \n",
        "\n",
        "5. **Oportunidades para Melhoria do Grupo A**:\n",
        "   - A análise das taxas de conversão sugere que o grupo A poderia explorar as estratégias adotadas pelo grupo B para otimizar suas próprias taxas de conversão.\n",
        "\n",
        "**Conjecturas**:\n",
        "\n",
        "1. **Experiência do Usuário**:\n",
        "   - A diferença nas taxas de conversão pode ser influenciada pela experiência do usuário. O grupo B pode estar proporcionando uma experiência mais intuitiva e envolvente.\n",
        "\n",
        "2. **Personalização e Segmentação**:\n",
        "   - O grupo B pode estar implementando estratégias de personalização e segmentação que ressoam melhor com os visitantes, aumentando assim a taxa de conversão.\n",
        "\n",
        "3. **Ofertas e Promoções Atrativas**:\n",
        "   - O grupo B pode estar oferecendo promoções mais atraentes, descontos convincentes ou pacotes de produtos que incentivam os visitantes a fazer pedidos.\n",
        "\n",
        "4. **Feedback e Melhoria Contínua**:\n",
        "   - A diferença nas taxas de conversão pode ser resultado de uma abordagem de feedback contínuo e melhoria por parte do grupo B, adaptando suas estratégias às necessidades do mercado.\n",
        "\n",
        "5. **Credibilidade e Confiança**:\n",
        "   - O grupo B pode ter estabelecido maior confiança e credibilidade junto aos visitantes, fazendo com que se sintam mais à vontade para fazer pedidos.\n",
        "\n",
        "6. **Mudanças Sazonais**:\n",
        "   - As diferenças nas taxas de conversão podem refletir comportamentos sazonais de compra, onde as preferências dos consumidores variam ao longo do tempo.\n",
        "\n",
        "Em última análise, a diferença nas taxas de conversão entre os grupos A e B é uma métrica importante que pode revelar insights valiosos sobre as estratégias de marketing, a experiência do usuário e a eficácia da abordagem de vendas de cada grupo. Para otimizar a taxa de conversão, é essencial analisar mais profundamente as causas dessa diferença e aplicar as lições aprendidas para melhorar o desempenho geral de ambos os grupos."
      ]
    },
    {
      "cell_type": "markdown",
      "metadata": {
        "id": "5YwyiU8Wm-xW"
      },
      "source": [
        "### Faça um gráfico da diferença relativa na conversão cumulativa para o grupo B em comparação com o grupo A. Tire conclusões e crie conjecturas.\n",
        "\n",
        "Vamos calcular a conversão cumulativa diária para os grupos A e B e, em seguida, calculamos a diferença relativa entre as conversões cumulativas do grupo B e do grupo A. O gráfico resultante mostrará como a diferença relativa na conversão acumulada entre os grupos evolui ao longo do tempo.\n",
        "\n",
        "Este gráfico permitirá visualizar de forma clara as mudanças na diferença relativa de conversão entre os grupos, identificando os períodos em que a conversão do grupo B supera ou fica abaixo da do grupo A. Isso pode fornecer insights sobre as estratégias e tendências de conversão dos grupos ao longo do tempo."
      ]
    },
    {
      "cell_type": "code",
      "execution_count": null,
      "metadata": {
        "id": "jNCPoqUem-xW"
      },
      "outputs": [],
      "source": [
        "# Calculando a conversão cumulativa para cada grupo\n",
        "cumulative_conversion_A = (daily_orders['A'].cumsum() / daily_visits['A'].cumsum()) * 100\n",
        "cumulative_conversion_B = (daily_orders['B'].cumsum() / daily_visits['B'].cumsum()) * 100"
      ]
    },
    {
      "cell_type": "code",
      "execution_count": null,
      "metadata": {
        "id": "6OU9nFckm-xW",
        "outputId": "740a4256-45f4-4012-b1b5-1b99f97dcb75"
      },
      "outputs": [
        {
          "data": {
            "text/plain": [
              "date\n",
              "2019-08-01    0.001170\n",
              "2019-08-02    0.007150\n",
              "2019-08-03    0.001930\n",
              "2019-08-04   -0.002139\n",
              "2019-08-05    0.001061\n",
              "dtype: float64"
            ]
          },
          "execution_count": 50,
          "metadata": {},
          "output_type": "execute_result"
        }
      ],
      "source": [
        "# Calculando a diferença relativa na conversão cumulativa entre os grupos\n",
        "relative_conversion_difference = cumulative_conversion_B - cumulative_conversion_A\n",
        "relative_conversion_difference.head()"
      ]
    },
    {
      "cell_type": "code",
      "execution_count": null,
      "metadata": {
        "id": "ag_IfbA4m-xW",
        "outputId": "62c39b95-bd20-49ae-848f-dd4f66b8f9a7"
      },
      "outputs": [
        {
          "data": {
            "image/png": "[encoded data removed]",
            "text/plain": [
              "<Figure size 720x432 with 1 Axes>"
            ]
          },
          "metadata": {},
          "output_type": "display_data"
        }
      ],
      "source": [
        "# Criando o gráfico da diferença relativa na conversão cumulativa\n",
        "plt.figure(figsize=(10, 6))\n",
        "\n",
        "plt.plot(relative_conversion_difference.index, relative_conversion_difference.values, label='Diferença Relativa (B - A)')\n",
        "\n",
        "plt.gcf().autofmt_xdate()\n",
        "plt.xlabel('Data')\n",
        "plt.ylabel('Diferença Relativa na Conversão Cumulativa (%)')\n",
        "plt.title('Diferença Relativa na Conversão Cumulativa entre Grupo B e Grupo A')\n",
        "plt.axhline(y=0, color='black', linestyle='--')  # Linha base\n",
        "plt.legend()\n",
        "plt.grid(True)\n",
        "plt.show()"
      ]
    },
    {
      "cell_type": "markdown",
      "metadata": {
        "id": "she_7BF_m-xW"
      },
      "source": [
        "### Calcule os percentis 95 e 99 para o número de pedidos por usuário. Defina o ponto em que um ponto de dados se torna uma anomalia.\n",
        "\n",
        "Neste código, calculamos o número de pedidos por usuário, em seguida, usamos os métodos quantile() para calcular os percentis 95 e 99 desse conjunto de dados. Em seguida, identificamos os pontos de dados que estão acima do percentil 99, que são considerados anomalias.\n",
        "\n",
        "A definição de um ponto de dados como anomalia depende do contexto e da natureza do seu conjunto de dados. Geralmente, valores que estão muito acima dos percentis superiores (como o percentil 99) podem ser considerados anomalias."
      ]
    },
    {
      "cell_type": "code",
      "execution_count": null,
      "metadata": {
        "id": "mZVUKUIAm-xW",
        "outputId": "01e4d9a3-911c-4568-9628-1a6369107dfc"
      },
      "outputs": [
        {
          "data": {
            "text/plain": [
              "visitorId\n",
              "5114589     1\n",
              "6958315     1\n",
              "8300375     2\n",
              "11094914    1\n",
              "11685486    1\n",
              "Name: transactionId, dtype: int64"
            ]
          },
          "execution_count": 52,
          "metadata": {},
          "output_type": "execute_result"
        }
      ],
      "source": [
        "# Calculando o número de pedidos por usuário\n",
        "orders_per_user = merged_orders_visits.groupby('visitorId')['transactionId'].nunique()\n",
        "orders_per_user.head()"
      ]
    },
    {
      "cell_type": "code",
      "execution_count": null,
      "metadata": {
        "id": "38xib0EFm-xW"
      },
      "outputs": [],
      "source": [
        "# Calculando os percentis 95 e 99\n",
        "percentile_95_orders = orders_per_user.quantile(0.95)\n",
        "percentile_99_orders = orders_per_user.quantile(0.99)"
      ]
    },
    {
      "cell_type": "code",
      "execution_count": null,
      "metadata": {
        "id": "SiGqfy8Lm-xW",
        "outputId": "346c65b3-7e58-47db-a291-2671d9c77330"
      },
      "outputs": [
        {
          "name": "stdout",
          "output_type": "stream",
          "text": [
            "Percentil 95: 2.0\n",
            "Percentil 99: 4.0\n",
            "Pontos de dados considerados anomalias:\n",
            " visitorId\n",
            "38926894      11\n",
            "199603092      5\n",
            "237748145      5\n",
            "491698131      5\n",
            "577274894      5\n",
            "1230306981     5\n",
            "1232533704     5\n",
            "1836965644    11\n",
            "1916032177     9\n",
            "2038680547     8\n",
            "Name: transactionId, dtype: int64\n"
          ]
        }
      ],
      "source": [
        "# Identificando anomalias\n",
        "anomalies = orders_per_user[(orders_per_user > percentile_99_orders)]\n",
        "\n",
        "print(\"Percentil 95:\", percentile_95_orders)\n",
        "print(\"Percentil 99:\", percentile_99_orders)\n",
        "print(\"Pontos de dados considerados anomalias:\\n\", anomalies)"
      ]
    },
    {
      "cell_type": "markdown",
      "metadata": {
        "id": "97gii_BUm-xW"
      },
      "source": [
        "***Os resultados mostram que***:\n",
        "\n",
        "O percentil 95 para o número de pedidos por usuário é 2. Isso significa que 95% dos usuários fizeram até 2 pedidos.\n",
        "O percentil 99 para o número de pedidos por usuário é 4. Isso significa que 99% dos usuários fizeram até 4 pedidos.\n",
        "Com base nos pontos de dados considerados anomalias:\n",
        "\n",
        "Existem alguns visitantes (`visitorId`) que fizeram um número anormalmente alto de pedidos em comparação com a maioria dos usuários.\n",
        "Por exemplo, os visitantes com os visitorId 38926894 e 1836965644 fizeram 11 pedidos cada, o que está bem acima do percentil 99.\n",
        "Esses pontos de dados podem representar comportamentos atípicos e merecem uma investigação adicional. Dependendo do contexto do seu projeto, essas anomalias podem ser de interesse ou podem indicar possíveis erros ou comportamentos incomuns que requerem uma análise mais profunda. Certifique-se de considerar esses pontos de dados ao interpretar os resultados da sua análise."
      ]
    },
    {
      "cell_type": "markdown",
      "metadata": {
        "id": "MJidq2eLm-xW"
      },
      "source": [
        "### Faça um gráfico de dispersão dos preços dos pedidos. Tire conclusões e crie conjecturas.\n",
        "\n",
        "Para criar um gráfico de dispersão dos preços dos pedidos, podemos utilizar a bibliioteca Seaborn para visualizar a distribuição dos valores de receita (preços) dos pedidos."
      ]
    },
    {
      "cell_type": "code",
      "execution_count": null,
      "metadata": {
        "id": "liW20oAgm-xW",
        "outputId": "d398173f-bf36-4846-a9bd-69209ff1c038"
      },
      "outputs": [
        {
          "data": {
            "image/png": "[encoded data removed]",
            "text/plain": [
              "<Figure size 720x432 with 1 Axes>"
            ]
          },
          "metadata": {},
          "output_type": "display_data"
        }
      ],
      "source": [
        "# Configurando o estilo dos gráficos do Seaborn\n",
        "sns.set(style=\"whitegrid\")\n",
        "\n",
        "# Criando o gráfico de dispersão dos preços dos pedidos\n",
        "plt.figure(figsize=(10, 6))\n",
        "\n",
        "sns.scatterplot(x='transactionId', y='revenue', data=orders, alpha=0.5)\n",
        "plt.xlabel('ID do Pedido')\n",
        "plt.ylabel('Receita do Pedido')\n",
        "plt.title('Gráfico de Dispersão dos Preços dos Pedidos')\n",
        "plt.grid(True)\n",
        "plt.show()"
      ]
    },
    {
      "cell_type": "code",
      "execution_count": null,
      "metadata": {
        "id": "5HrWBzd7m-xX",
        "outputId": "bd960f7d-2535-481e-e2cd-e560d61e5f81"
      },
      "outputs": [
        {
          "data": {
            "image/png": "[encoded data removed]",
            "text/plain": [
              "<Figure size 720x432 with 1 Axes>"
            ]
          },
          "metadata": {},
          "output_type": "display_data"
        }
      ],
      "source": [
        "sns.set(style=\"whitegrid\")\n",
        "\n",
        "# Criando o gráfico de dispersão dos preços dos pedidos\n",
        "plt.figure(figsize=(10, 6))\n",
        "\n",
        "sns.scatterplot(x='transactionId', y='revenue', data=orders, alpha=0.5)\n",
        "plt.yscale('log')\n",
        "plt.xlabel('ID do Pedido')\n",
        "plt.ylabel('Receita do Pedido')\n",
        "plt.title('Gráfico de Dispersão dos Preços dos Pedidos')\n",
        "plt.grid(True)\n",
        "plt.show()\n"
      ]
    },
    {
      "cell_type": "markdown",
      "metadata": {
        "id": "OZBIZCAHm-xX"
      },
      "source": [
        "**Conclusões**:\n",
        "\n",
        "1. **Distribuição de Valores**: O gráfico de dispersão dos preços dos pedidos mostra que a maioria dos pedidos possui valores de receita relativamente baixos, concentrando-se principalmente perto do eixo x. Essa distribuição sugere que a maior parte dos pedidos são de baixo valor.\n",
        "\n",
        "2. **Outliers**: No entanto, existem poucos pontos afastados da maioria dos dados, que representam pedidos com valores de receita significativamente mais altos. Esses pontos podem ser considerados outliers, indicando pedidos com valores excepcionalmente altos.\n",
        "\n",
        "3. **Heterogeneidade**: A presença de outliers e a distribuição heterogênea dos pontos sugerem a existência de diferentes segmentos de pedidos, com alguns sendo de baixo valor e outros sendo de alto valor.\n",
        "\n",
        "**Conjecturas**:\n",
        "\n",
        "1. **Diversidade de Produtos**: A concentração de valores baixos pode ser atribuída a produtos de menor valor ou itens comuns que são frequentemente comprados.\n",
        "\n",
        "2. **Pedidos Especiais**: Outliers podem representar pedidos únicos, personalizados ou produtos de luxo que contribuem para uma alta receita individual.\n",
        "\n",
        "3. **Sazonalidade e Promoções**: A presença de pontos mais altos pode estar relacionada a promoções sazonais, eventos especiais ou ofertas exclusivas que resultam em pedidos de alto valor.\n",
        "\n",
        "4. **Segmentação de Clientes**: Os diferentes segmentos de valores podem refletir diferentes grupos de clientes, alguns dispostos a gastar mais em produtos premium.\n",
        "\n",
        "5. **Comportamento do Consumidor**: A variedade de valores pode indicar que os clientes têm diferentes padrões de compra, com alguns preferindo produtos de menor custo e outros fazendo compras de maior valor.\n",
        "\n",
        "6. **Variedade de Produtos**: A existência de valores variados pode indicar uma variedade de produtos no catálogo da empresa, atendendo a diferentes faixas de preço.\n",
        "\n",
        "7. **Estratégias de Preço**: A heterogeneidade nos valores pode ser resultado de diferentes estratégias de precificação para diferentes tipos de produtos.\n",
        "\n",
        "8. **Impacto das Promoções**: A presença de outliers pode sugerir que promoções ou ofertas especiais têm um impacto significativo na receita.\n",
        "\n",
        "O gráfico de dispersão dos preços dos pedidos ajuda a identificar a distribuição dos valores de receita e a diversidade de padrões de gastos dos clientes. Ele pode ser útil para ajustar estratégias de marketing, precificação e oferta de produtos para atender às necessidades de diferentes segmentos de clientes.\n",
        "\n",
        "Esse gráfico de dispersão permite visualizar como os preços dos pedidos estão distribuídos e identificar possíveis padrões, outliers ou agrupamentos nos dados de receita. As conclusões e conjecturas a serem tiradas dependerão das características específicas do gráfico e do contexto do seu projeto. Por exemplo, você pode identificar faixas de preços com maior densidade de pedidos ou detectar valores discrepantes que merecem investigação adicional."
      ]
    },
    {
      "cell_type": "markdown",
      "metadata": {
        "id": "nPq0ls4hm-xX"
      },
      "source": [
        "### Calcule os percentis 95 e 99 dos preços dos pedidos. Defina o ponto em que um ponto de dados se torna uma anomalia.\n",
        "\n",
        "Vamos usar a função quantile() do Pandas para calcular os percentis 95 e 99 dos preços dos pedidos. Em seguida, estamos filtrando os pontos de dados (pedidos) que têm preços acima do percentil 99 e os consideramos como anomalias.\n",
        "\n",
        "Os pontos de dados com preços acima do percentil 99 podem ser considerados como anomalias ou valores excepcionais. Essa abordagem considera valores que estão na parte superior (1% mais altos) da distribuição como anomalias. Lembre-se de que o limiar para definir um ponto de dados como uma anomalia pode variar com base no contexto do seu projeto e nas necessidades da análise."
      ]
    },
    {
      "cell_type": "code",
      "execution_count": null,
      "metadata": {
        "id": "vyvD5fPLm-xX"
      },
      "outputs": [],
      "source": [
        "# Calculando os percentis 95 e 99 dos preços dos pedidos\n",
        "percentile_95_revenue = orders['revenue'].quantile(0.95)\n",
        "percentile_99_revenue = orders['revenue'].quantile(0.99)"
      ]
    },
    {
      "cell_type": "code",
      "execution_count": null,
      "metadata": {
        "id": "LxyolPe4m-xX",
        "outputId": "2feeb6e2-7353-4abc-dbe4-f3aa93c41ab9"
      },
      "outputs": [
        {
          "name": "stdout",
          "output_type": "stream",
          "text": [
            "Percentil 95: 435.5400024414063\n",
            "Percentil 99: 900.9040112304685\n"
          ]
        }
      ],
      "source": [
        "print(\"Percentil 95:\", percentile_95_revenue)\n",
        "print(\"Percentil 99:\", percentile_99_revenue)"
      ]
    },
    {
      "cell_type": "code",
      "execution_count": null,
      "metadata": {
        "id": "_kLW5Oydm-xX",
        "outputId": "d8d50bff-6608-4a44-fc6b-ec333197098e"
      },
      "outputs": [
        {
          "name": "stdout",
          "output_type": "stream",
          "text": [
            "Pontos de dados considerados anomalias:\n",
            "       transactionId   visitorId       date       revenue group\n",
            "425       590470918  1920142716 2019-08-19  19920.400391     B\n",
            "662      1811671147    28031466 2019-08-29   1220.199951     A\n",
            "682      1216533772    28031466 2019-08-29   1220.199951     B\n",
            "743       691390987   161932463 2019-08-09   1050.000000     A\n",
            "744       626659113   888512513 2019-08-27   1335.599976     B\n",
            "858       192721366  1316129916 2019-08-27   1450.199951     A\n",
            "940      1874916762   291338710 2019-08-08    905.799988     B\n",
            "949      1347999392   887908475 2019-08-21    930.000000     A\n",
            "1099      316924019   148427295 2019-08-12   1015.900024     A\n",
            "1103     1348774318  1164614297 2019-08-12   1025.800049     A\n",
            "1136      666610489  1307669133 2019-08-13   1425.800049     A\n",
            "1196      358190231  2108080724 2019-08-15   3120.100098     B\n"
          ]
        }
      ],
      "source": [
        "# Identificando anomalias\n",
        "anomalies = orders[orders['revenue'] > percentile_99_revenue]\n",
        "\n",
        "print(\"Pontos de dados considerados anomalias:\\n\", anomalies)"
      ]
    },
    {
      "cell_type": "markdown",
      "metadata": {
        "id": "hlF3kQpRm-xX"
      },
      "source": [
        "Neste tópico, calculamos os percentis 95 e 99 dos preços dos pedidos para identificar valores excepcionalmente altos que poderiam ser considerados anomalias. Esses percentis nos ajudaram a entender a distribuição dos valores de receita e a identificar os pontos de dados que estão na parte superior da distribuição. Identificamos anomalias filtrando os pontos de dados (pedidos) que têm preços acima do percentil 99. Esses pontos são considerados anomalias em relação à distribuição dos preços dos pedidos.\n",
        "\n",
        "Ao identificar essas anomalias, podemos investigar mais a fundo para entender por que esses pedidos têm valores tão altos. Isso pode nos fornecer insights sobre possíveis segmentos de clientes, produtos de alto valor ou situações excepcionais que podem estar contribuindo para esses valores incomuns.\n",
        "\n",
        "A detecção de anomalias nos preços dos pedidos é essencial para garantir a integridade dos dados e obter resultados confiáveis em análises posteriores. Isso nos ajuda a entender melhor a variedade de padrões de gastos dos clientes e a tomar decisões informadas sobre como abordar essas situações incomuns."
      ]
    },
    {
      "cell_type": "markdown",
      "metadata": {
        "id": "-FDtPPqnm-xX"
      },
      "source": [
        "### Encontre a significância estatística da diferença na conversão entre os grupos usando os dados brutos. Tire conclusões e crie conjecturas.\n",
        "\n",
        "Os dados de conversão dos grupos A e B podem ser obtidos a partir dos cojuntos de dados. Geralmente, a conversão é calculada como a proporção de pedidos em relação ao número de visitas para cada grupo e data. Para calcular a conversão, você pode fazer o seguinte:\n",
        "\n",
        "- Podemos usar a coluna `group` e a coluna `date` nos seus conjuntos de dados para agrupar os dados por grupo e data. Em seguida, contar o número de pedidos e o número de visitas para cada grupo e data e calcular a taxa de conversão.\n",
        "\n",
        "- Realizar o teste de Mann-Whitney U para comparar as distribuições de conversão entre os grupos A e B. O teste de Mann-Whitney é adequado para comparar amostras independentes e é uma alternativa ao teste t de Student quando os dados não seguem uma distribuição normal.\n",
        "\n",
        "**Definindo hipóteses**:\n",
        "\n",
        "A hipótese nula (H0) é a suposição de que não existe diferença real entre os grupos sob comparação. No nosso caso, a hipótese nula se traduz em afirmar que não há diferença na conversão entre os grupos A e B\n",
        "\n",
        "***Hipótese Nula (H0)***: Não há diferença na conversão entre os grupos A e B.\n",
        "\n",
        "A hipótese alternativa (H1), por outro lado, é a afirmação que esperamos confirmar com base nos resultados do teste. Ela representa a possibilidade de que uma diferença real e significativa existe entre os grupos em comparação. No nosso caso, a hipótese alternativa sugere que há, de fato, uma diferença na conversão entre os grupos A e B.\n",
        "\n",
        "***Hipótese Alternativa (H1)***: Há diferença na conversão entre os grupos A e B.\n",
        "\n"
      ]
    },
    {
      "cell_type": "code",
      "execution_count": null,
      "metadata": {
        "id": "kZ2WiSxGm-xX"
      },
      "outputs": [],
      "source": [
        "# Agrupando os dados por grupo e data\n",
        "groupby_group_date = merged_orders_visits.groupby(['group', 'date'])"
      ]
    },
    {
      "cell_type": "code",
      "execution_count": null,
      "metadata": {
        "id": "fZcyMExhm-xX"
      },
      "outputs": [],
      "source": [
        "# Contando o número de pedidos e visitas para cada grupo e data\n",
        "orders_per_group_date = groupby_group_date['transactionId'].nunique()\n",
        "visits_per_group_date = groupby_group_date['visits'].sum()"
      ]
    },
    {
      "cell_type": "code",
      "execution_count": null,
      "metadata": {
        "id": "KJX6RPakm-xX"
      },
      "outputs": [],
      "source": [
        "# Calculando a conversão para cada grupo e data\n",
        "conversion_per_group_date = orders_per_group_date / visits_per_group_date"
      ]
    },
    {
      "cell_type": "code",
      "execution_count": null,
      "metadata": {
        "id": "AKRtCai9m-xX"
      },
      "outputs": [],
      "source": [
        "# Agora posso usar a coluna 'group' e 'date' para acessar os valores de conversão para cada grupo e data\n",
        "conversion_group_A = conversion_per_group_date['A']\n",
        "conversion_group_B = conversion_per_group_date['B']"
      ]
    },
    {
      "cell_type": "code",
      "execution_count": null,
      "metadata": {
        "id": "j4XizUO4m-xX",
        "outputId": "63a3bd70-bbd9-4e8a-b56f-4bb2afe6d8db"
      },
      "outputs": [
        {
          "name": "stdout",
          "output_type": "stream",
          "text": [
            "p-value: 0.7301376549390499\n",
            "Falha ao rejeitar a hipótese nula: Não há diferença na conversão entre os grupos A e B\n"
          ]
        }
      ],
      "source": [
        "# Nível de significância\n",
        "alpha = 0.05\n",
        "\n",
        "# Teste de Mann-Whitney U para comparar as distribuições de conversão dos grupos A e B\n",
        "results = st.mannwhitneyu(conversion_group_A, conversion_group_B)\n",
        "\n",
        "print('p-value:', results.pvalue)\n",
        "\n",
        "if results.pvalue < alpha:\n",
        "    print(\"Hipótese nula rejeitada: Há diferença na conversão entre os grupos A e B\")\n",
        "else:\n",
        "    print(\"Falha ao rejeitar a hipótese nula: Não há diferença na conversão entre os grupos A e B\")\n"
      ]
    },
    {
      "cell_type": "markdown",
      "metadata": {
        "id": "N2XOcgp1m-xX"
      },
      "source": [
        "- O resultado do teste de Mann-Whitney U indica que não há evidências estatisticamente significativas para concluir que existe uma diferença na conversão entre os grupos A e B. O p-value de 0.7301376549390499 é maior do que o nível de significância de 0.05 (alpha), o que significa que não há evidências suficientes para rejeitar a hipótese nula.\n",
        "\n",
        "- Isso sugere que, com base nos dados brutos que você possui, não há diferença estatisticamente significativa na conversão entre os grupos A e B.\n",
        "\n",
        "**Conjecturas:**\n",
        "\n",
        "- Os grupos A e B podem estar recebendo um volume semelhante de tráfego ou visitantes, o que pode estar contribuindo para a falta de diferença estatística na conversão.\n",
        "\n",
        "- Outros fatores não medidos, como sazonalidade, preferências do público-alvo ou mudanças no comportamento do usuário, podem estar influenciando a conversão.\n",
        "\n",
        "- As estratégias de marketing e design das páginas de destino podem ser semelhantes para ambos os grupos, o que poderia explicar a falta de diferença significativa na conversão.\n",
        "\n",
        "- Pode ser necessário coletar mais dados ao longo do tempo para obter uma imagem mais precisa e confiável das diferenças potenciais na conversão entre os grupos."
      ]
    },
    {
      "cell_type": "markdown",
      "metadata": {
        "id": "oiJ9I1Ydm-xX"
      },
      "source": [
        "### Encontre a significância estatística da diferença no tamanho médio do pedido entre os grupos usando os dados brutos. Tire conclusões e crie conjecturas.\n",
        "\n",
        "Para encontrar a significância estatística da diferença no tamanho médio do pedido entre os grupos A e B usando os dados brutos, podemos realizar um teste estatístico. Neste caso, utilizaremos o teste t de Student independente para comparar as médias das amostras dos dois grupos.\n",
        "\n",
        "Utilizamos o teste t de Student independente para comparar as médias das amostras dos dois grupos. O teste t de Student é adequado para comparar médias de duas amostras independentes. O resultado do teste fornece um valor de p-value que indica a probabilidade de obter os resultados observados se a hipótese nula fosse verdadeira.\n",
        "\n",
        "Comparamos o valor de p-value com um nível de significância (alpha) predefinido. Se o valor de p for menor que o nível de significância, rejeitamos a hipótese nula e concluímos que há uma diferença significativa no tamanho médio do pedido entre os grupos. Caso contrário, não rejeitamos a hipótese nula e não há evidências de diferença significativa.\n",
        "\n",
        "**Definindo Hipóteses**:\n",
        "\n",
        "A premissa fundamental é determinar se a diferença nas médias amostrais observadas é significativa o suficiente para inferir que existe uma diferença real e não aleatória nas médias populacionais dos dois grupos. Para tal, definimos as hipóteses nula e alternativa:\n",
        "\n",
        "***Hipótese Nula (H0)***: Não há diferença significativa no tamanho médio do pedido entre os grupos A e B.\n",
        "\n",
        "***Hipótese Alternativa (H1)***: Há diferença significativa no tamanho médio do pedido entre os grupos A e B.\n",
        "\n",
        "Após aplicar o teste t de Student e obter o valor de p, que representa a probabilidade de obter os resultados observados sob a hipótese nula, comparamos esse valor com um nível predefinido de significância (alpha). Caso o valor de p seja menor que alpha, rejeitamos a hipótese nula e concluímos que há uma diferença estatisticamente significativa entre os tamanhos médios dos pedidos dos grupos. Por outro lado, se o valor de p for maior ou igual a alpha, não temos evidências suficientes para afirmar que existe uma diferença significativa."
      ]
    },
    {
      "cell_type": "code",
      "execution_count": null,
      "metadata": {
        "id": "zYb7Ktlfm-xY"
      },
      "outputs": [],
      "source": [
        "# Separando os dados dos grupos A e B\n",
        "data_group_a = merged_orders_visits[merged_orders_visits['group'] == 'A']['revenue']\n",
        "data_group_b = merged_orders_visits[merged_orders_visits['group'] == 'B']['revenue']"
      ]
    },
    {
      "cell_type": "code",
      "execution_count": null,
      "metadata": {
        "id": "Uo7LRUCQm-xY"
      },
      "outputs": [],
      "source": [
        "# Realizando o teste t de Student\n",
        "results = st.ttest_ind(data_group_a, data_group_b)"
      ]
    },
    {
      "cell_type": "code",
      "execution_count": null,
      "metadata": {
        "id": "YmQIu2mBm-xY"
      },
      "outputs": [],
      "source": [
        "# Extraindo o p-value do resultado do teste\n",
        "p_value = results.pvalue"
      ]
    },
    {
      "cell_type": "code",
      "execution_count": null,
      "metadata": {
        "id": "WXSnuLlGm-xY"
      },
      "outputs": [],
      "source": [
        "# Nível de significância\n",
        "alpha = 0.05"
      ]
    },
    {
      "cell_type": "code",
      "execution_count": null,
      "metadata": {
        "id": "gRzcOVS9m-xY",
        "outputId": "0b51a4dc-731f-410e-bd86-3bb8048aa425"
      },
      "outputs": [
        {
          "name": "stdout",
          "output_type": "stream",
          "text": [
            "p-value: 0.404117666472644\n",
            "Falha ao rejeitar a hipótese nula: não há diferença significativa no tamanho médio do pedido entre os grupos.\n"
          ]
        }
      ],
      "source": [
        "# Comparando o p-value com o nível de significância\n",
        "if p_value < alpha:\n",
        "    conclusion = \"Hipótese nula rejeitada: há diferença significativa no tamanho médio do pedido entre os grupos.\"\n",
        "else:\n",
        "    conclusion = \"Falha ao rejeitar a hipótese nula: não há diferença significativa no tamanho médio do pedido entre os grupos.\"\n",
        "\n",
        "print(\"p-value:\", p_value)\n",
        "print(conclusion)\n",
        ""
      ]
    },
    {
      "cell_type": "markdown",
      "metadata": {
        "id": "dwFqv4AYm-xY"
      },
      "source": [
        "- Com base no resultado do teste estatístico realizado, que resultou em um p-value de 0.4041, não há evidências estatísticas para afirmar que existe uma diferença significativa no tamanho médio do pedido entre os grupos A e B. Portanto, não podemos rejeitar a hipótese nula de que as médias são iguais.\n",
        "\n",
        "- Isso sugere que, do ponto de vista estatístico, não há uma diferença estatisticamente significativa no tamanho médio do pedido entre os grupos que foram submetidos ao teste A/B. Essa conclusão pode ter implicações importantes para a análise do desempenho dos grupos em relação ao tamanho dos pedidos.\n",
        "\n",
        "- Uma conjectura que pode ser feita é que outros fatores além do grupo A/B podem estar influenciando o tamanho médio dos pedidos. Pode ser interessante explorar outras variáveis, como características demográficas dos usuários, comportamento de navegação, entre outros, para entender melhor o que pode estar impactando o tamanho dos pedidos."
      ]
    },
    {
      "cell_type": "markdown",
      "metadata": {
        "id": "To3zQWREm-xY"
      },
      "source": [
        "### Encontre a significância estatística da diferença na conversão entre os grupos usando os dados filtrados.Tire conclusões e crie conjecturas.\n",
        "Para encontrar a significância estatística da diferença na conversão entre os grupos usando os dados filtrados, podemos realizar um teste estatístico adequado, como o teste de Mann-Whitney U para amostras independentes.\n",
        "\n",
        "Usamos o teste de Mann-Whitney U para comparar as distribuições de conversão dos grupos A e B. Esse teste é apropriado quando os dados não seguem uma distribuição normal. Calculamos o valor de p-value a partir do resultado do teste. O p-value indica a probabilidade de obter os resultados observados se a hipótese nula fosse verdadeira.\n",
        "\n",
        "Comparamos o valor de p-value com o nível de significância (alpha) predefinido. Se o valor de p for menor que o nível de significância, rejeitamos a hipótese nula e concluímos que há uma diferença significativa na conversão entre os grupos. Caso contrário, não rejeitamos a hipótese nula e não há evidências de diferença significativa na conversão entre os grupos.\n",
        "\n",
        "**Definindo Hipóteses**:\n",
        "\n",
        "***Hipótese Nula (H0)***: Não existe uma diferença estatisticamente significativa na conversão entre os grupos A e B usando com base dados filtrados. Qualquer diferença observada é puramente devido ao acaso ou variação aleatória nos dados.\n",
        "\n",
        "***Hipótese Alternativa (H1)***: Existe uma diferença estatisticamente significativa na conversão entre os grupos A e B com base nos dados filtrados. A diferença observada não pode ser explicada apenas por variação aleatória e sugere que há uma influência real do grupo na taxa de conversão.\n",
        "\n",
        "Em seguida, calculamos o valor de p (p-value) a partir do resultado do teste de Mann-Whitney U. Esse valor representa a probabilidade de obter os resultados observados caso a hipótese nula seja verdadeira. Posteriormente, comparamos o p-value com um nível predefinido de significância (alpha), que é tipicamente fixado em 0.05.\n"
      ]
    },
    {
      "cell_type": "code",
      "execution_count": null,
      "metadata": {
        "id": "MP9quLYLm-xY"
      },
      "outputs": [],
      "source": [
        "alpha = 0.05  # Nível de significância"
      ]
    },
    {
      "cell_type": "code",
      "execution_count": null,
      "metadata": {
        "id": "kd3pM5Ojm-xY",
        "outputId": "1f98df79-729e-439d-9f5a-e5e26e48ab5b"
      },
      "outputs": [
        {
          "name": "stdout",
          "output_type": "stream",
          "text": [
            "p-value: 0.7301376549390499\n",
            "Falha ao rejeitar a hipótese nula: não há diferença significativa na conversão entre os grupos.\n"
          ]
        }
      ],
      "source": [
        "results = st.mannwhitneyu(conversion_group_A, conversion_group_B)\n",
        "\n",
        "print('p-value:', results.pvalue)\n",
        "\n",
        "if results.pvalue < alpha:\n",
        "    print(\"Hipótese nula rejeitada: há diferença significativa na conversão entre os grupos.\")\n",
        "else:\n",
        "    print(\"Falha ao rejeitar a hipótese nula: não há diferença significativa na conversão entre os grupos.\")"
      ]
    },
    {
      "cell_type": "markdown",
      "metadata": {
        "id": "3Azx-_nhm-xY"
      },
      "source": [
        "- Com base no resultado do teste de significância estatística da diferença na conversão entre os grupos, concluímos que não há evidências suficientes para afirmar que existe uma diferença significativa na conversão entre os grupos A e B.\n",
        "\n",
        "- O p-value calculado (0.730) está acima do nível de significância escolhido (geralmente 0.05), o que significa que não temos motivo para rejeitar a hipótese nula.\n",
        "\n",
        "- Isso sugere que, com base nos dados filtrados, não há diferença estatisticamente significativa na taxa de conversão entre os grupos A e B. Isso pode levar a conjecturas de que, no contexto da análise, as mudanças ou variações observadas nas taxas de conversão entre os grupos não são estatisticamente relevantes e podem ser resultado de flutuações aleatórias.\n",
        "\n",
        "- Entretanto, é importante lembrar que a falta de significância estatística não significa necessariamente que não há diferença prática ou relevante entre os grupos. Outros fatores contextuais e informações adicionais devem ser considerados ao interpretar esses resultados."
      ]
    },
    {
      "cell_type": "markdown",
      "metadata": {
        "id": "dACNN2Cum-xY"
      },
      "source": [
        "### Encontre a significância estatística da diferença no tamanho médio do pedido entre os grupos usando os dados filtrados. Tire conclusões e crie conjecturas.\n",
        "Vamos usar o teste de Mann-Whitney U para comparar as distribuições dos tamanhos médios dos pedidos entre os grupos A e B.\n",
        "\n",
        "Usamos o teste de Mann-Whitney U com o parâmetro alternative='two-sided' para considerar diferenças em ambas as direções.\n",
        "\n",
        "Calculamos o valor de p-value a partir do resultado do teste. Comparamos o valor de p-value com o nível de significância (alpha) predefinido. Se o valor de p for menor que o nível de significância, rejeitamos a hipótese nula e concluímos que há uma diferença significativa no tamanho médio do pedido entre os grupos. Caso contrário, não rejeitamos a hipótese nula e não há evidências de diferença significativa no tamanho médio do pedido entre os grupos.\n",
        "\n",
        "**Definindo Hipóteses**:\n",
        "\n",
        "***Hipótese Nula (H0)***: Não existe uma diferença estatisticamente significativa no tamanho médio do pedido entre os grupos A e B. Qualquer diferença observada é resultado do acaso ou da variação aleatória nos dados.\n",
        "\n",
        "***Hipótese Alternativa (H1)***: Existe uma diferença estatisticamente significativa no tamanho médio do pedido entre os grupos A e B. A diferença observada não pode ser explicada apenas por variação aleatória e sugere que há uma influência real do grupo no tamanho médio do pedido.\n",
        "\n",
        "Para testar essa hipótese, usamos o teste de Mann-Whitney U, que compara as distribuições dos tamanhos médios dos pedidos nos grupos A e B. O teste considera diferenças em ambas as direções. Calculamos o valor de p-value a partir do resultado do teste e o comparamos com um nível de significância (alpha) predefinido. Se o valor de p for menor que o nível de significância, rejeitamos a hipótese nula, indicando que há uma diferença significativa no tamanho médio do pedido entre os grupos. Caso contrário, não rejeitamos a hipótese nula e não há evidências de uma diferença significativa."
      ]
    },
    {
      "cell_type": "code",
      "execution_count": null,
      "metadata": {
        "id": "uI7JIKPUm-xY"
      },
      "outputs": [],
      "source": [
        "# Selecionando valores de `revenue` para os grupos A e B a partir do DataFrame merged_orders_visits\n",
        "group_a_revenue = merged_orders_visits[merged_orders_visits['group'] == 'A']['revenue']\n",
        "group_b_revenue = merged_orders_visits[merged_orders_visits['group'] == 'B']['revenue']"
      ]
    },
    {
      "cell_type": "code",
      "execution_count": null,
      "metadata": {
        "id": "u2Bj_ezDm-xY"
      },
      "outputs": [],
      "source": [
        "alpha = 0.05  # Nível de significância"
      ]
    },
    {
      "cell_type": "code",
      "execution_count": null,
      "metadata": {
        "id": "A_sXPaMmm-xY",
        "outputId": "d6195db5-fca3-4480-a8f9-db44a2ca68de"
      },
      "outputs": [
        {
          "name": "stdout",
          "output_type": "stream",
          "text": [
            "p-value: 0.6915246773264736\n",
            "Falha ao rejeitar a hipótese nula: não há diferença significativa no tamanho médio do pedido entre os grupos\n"
          ]
        }
      ],
      "source": [
        "results = st.mannwhitneyu(group_a_revenue, group_b_revenue, alternative='two-sided')\n",
        "\n",
        "print('p-value:', results.pvalue)\n",
        "\n",
        "if results.pvalue < alpha:\n",
        "    print(\"Hipótese nula rejeitada: há diferença significativa no tamanho médio do pedido entre os grupos\")\n",
        "else:\n",
        "    print(\"Falha ao rejeitar a hipótese nula: não há diferença significativa no tamanho médio do pedido entre os grupos\")"
      ]
    },
    {
      "cell_type": "markdown",
      "metadata": {
        "id": "_2kpg6Yum-xY"
      },
      "source": [
        "- Com base na análise estatística realizada, não encontramos evidências estatisticamente significativas para concluir que existe uma diferença no tamanho médio do pedido entre os grupos A e B. O p-value calculado (0.6915) é maior que o nível de significância (geralmente definido como 0.05), indicando que não há diferença significativa nos tamanhos médios dos pedidos entre os dois grupos.\n",
        "\n",
        "- Isso sugere que, em termos de tamanho médio do pedido, os grupos A e B podem ser considerados estatisticamente equivalentes. Portanto, não podemos afirmar que uma intervenção específica teve um efeito significativo no tamanho dos pedidos.\n",
        "\n",
        "**Conjecturas possíveis**:\n",
        "\n",
        "- A mudança testada no experimento pode não ter impacto no tamanho médio dos pedidos. Isso pode indicar que a variável testada não influencia diretamente o valor dos pedidos.\n",
        "\n",
        "- Outros fatores não controlados podem estar afetando o tamanho médio dos pedidos, mascarando quaisquer diferenças que possam existir entre os grupos.\n",
        "\n",
        "- A amostra pode não ser grande o suficiente para detectar diferenças significativas no tamanho médio dos pedidos, se existirem.\n",
        "\n",
        "\n",
        "É importante lembrar que a ausência de diferença estatisticamente significativa não significa necessariamente que não há diferença prática ou relevante no mundo real. É sempre recomendado considerar o contexto do experimento e os objetivos do negócio ao interpretar os resultados."
      ]
    },
    {
      "cell_type": "markdown",
      "metadata": {
        "id": "D8rylJYBm-xY"
      },
      "source": [
        "## Tome uma decisão com base nos resultados do teste.\n",
        "As decisões possíveis são:\n",
        "\n",
        "- Pare o teste, considere um dos grupos o líder.\n",
        "\n",
        "- Pare o teste, conclua que não há diferença entre os grupos.\n",
        "\n",
        "- Continue o teste."
      ]
    },
    {
      "cell_type": "markdown",
      "metadata": {
        "id": "nbnDwkBPm-xY"
      },
      "source": [
        "Com base nos resultados dos testes realizados, especificamente em relação ao tamanho médio do pedido, não encontramos diferença estatisticamente significativa entre os grupos A e B. O p-value calculado foi superior ao nível de significância padrão de 0.05. Portanto, não há evidências estatísticas para concluir que a mudança testada teve um impacto significativo no tamanho médio dos pedidos.\n",
        "\n",
        "Com isso em mente, uma decisão possível seria parar o teste e concluir que não há diferença significativa entre os grupos em termos de tamanho médio de pedido. Isso significa que a mudança testada não parece estar influenciando essa métrica.\n",
        "\n",
        "No entanto, é importante considerar que a ausência de diferença estatisticamente significativa não significa necessariamente que a mudança não teve nenhum efeito prático ou relevante. Outros fatores não considerados podem estar afetando a métrica. Além disso, dependendo dos objetivos do negócio, pode ser necessário analisar outras métricas e considerar o contexto mais amplo para tomar uma decisão final.\n",
        "\n",
        "Em última análise, a decisão de continuar, parar ou modificar o teste deve ser baseada em uma avaliação completa dos resultados, dos objetivos do experimento e do contexto do negócio."
      ]
    },
    {
      "cell_type": "markdown",
      "metadata": {
        "id": "TLbkYW9Rm-xY"
      },
      "source": [
        "## Conclusão\n",
        "\n",
        "1. Grantimos a correção de possíveis entradas duplicadas e a conversão adequada de tipos de dados, como datas. Essa etapa é crucial para garantir que os dados estejam prontos para análises subsequentes.\n",
        "\n",
        "2. No projeto, as hipóteses incluíram possíveis impactos na conversão, no tamanho médio do pedido e na receita. A clara formulação dessas hipóteses é vital para orientar a análise e a interpretação dos resultados.\n",
        "\n",
        "3. Os gráficos gerados durante a análise, como gráficos de receita acumulada, conversão, diferença relativa, entre outros, são cuidadosamente interpretados. Essa interpretação envolve identificar padrões, tendências ou anomalias nos dados, como a subida na receita acumulada para o grupo B em uma determinada data.\n",
        "\n",
        "4. A análise estatística é conduzida usando testes relevantes, como o teste Mann-Whitney U, para calcular a significância estatística. O p-value é calculado e comparado ao nível de significância alpha. Essa abordagem objetiva ajuda a determinar se as diferenças observadas são estatisticamente significativas ou se podem ser atribuídas ao acaso.\n",
        "\n",
        "5. As conclusões do projeto são baseadas nos resultados dos testes e análises realizados. No projeto, observamos que não houve diferença significativa na conversão ou no tamanho médio do pedido entre os grupos A e B, indicando que as mudanças testadas não tiveram um impacto mensurável nas métricas analisadas.\n",
        "\n",
        "\n",
        "Ao abordar esses aspectos de maneira sólida e estruturada, o projeto demonstra uma análise rigorosa e confiável dos resultados do teste A/B, fornecendo insights claros e acionáveis sobre o impacto das mudanças testadas nas métricas-chave do negócio."
      ]
    }
  ],
  "metadata": {
    "kernelspec": {
      "display_name": "Python 3 (ipykernel)",
      "language": "python",
      "name": "python3"
    },
    "language_info": {
      "codemirror_mode": {
        "name": "ipython",
        "version": 3
      },
      "file_extension": ".py",
      "mimetype": "text/x-python",
      "name": "python",
      "nbconvert_exporter": "python",
      "pygments_lexer": "ipython3",
      "version": "3.9.5"
    },
    "toc": {
      "base_numbering": 1,
      "nav_menu": {},
      "number_sections": true,
      "sideBar": true,
      "skip_h1_title": true,
      "title_cell": "Table of Contents",
      "title_sidebar": "Contents",
      "toc_cell": false,
      "toc_position": {},
      "toc_section_display": true,
      "toc_window_display": false
    },
    "colab": {
      "provenance": [],
      "include_colab_link": true
    }
  },
  "nbformat": 4,
  "nbformat_minor": 0
}